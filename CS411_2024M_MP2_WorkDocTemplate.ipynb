{
  "cells": [
    {
      "cell_type": "markdown",
      "metadata": {
        "id": "view-in-github",
        "colab_type": "text"
      },
      "source": [
        "<a href=\"https://colab.research.google.com/github/zelal-Eizaldeen/CNN-images/blob/main/CS411_2024M_MP2_WorkDocTemplate.ipynb\" target=\"_parent\"><img src=\"https://colab.research.google.com/assets/colab-badge.svg\" alt=\"Open In Colab\"/></a>"
      ]
    },
    {
      "cell_type": "markdown",
      "metadata": {
        "id": "wcHzSVqQ9EyV"
      },
      "source": [
        "# MP2: Implementing/Using Relational Algebra"
      ]
    },
    {
      "cell_type": "markdown",
      "source": [
        "## <font color = \"red\"> This document is for writing MP2 submissions.</font>\n",
        "<font color = \"red\">\n",
        "\n",
        "- MP2 is specified in this [instruction document](https://drive.google.com/file/d/15hRfUKXfL7o4rt97H7QJ0xeiaavCDL0L/view?usp=sharing).\n",
        "- All updates, FAQ, and bug fixes, if any, will be announced in [this post](https://campuswire.com/c/G76F915C7/feed/21). Please check it frequently.\n",
        "- Just write your work on this document, which you will have access till the deadline. No separate submission is necessary.\n",
        "- Your work on this document will be graded here by the staff, after the deadline.\n",
        "- The expected output is linked [here](https://docs.google.com/document/d/1cDTxArmDt6Jr-0iZXlRJMqfmGrat9iwh/edit?usp=sharing&ouid=112265852052044371153&rtpof=true&sd=true).\n",
        "</font>"
      ],
      "metadata": {
        "id": "mbvcMaFhy6BZ"
      }
    },
    {
      "cell_type": "markdown",
      "source": [
        "## Objectives\n",
        "- Implement relational operators to compute over data.\n",
        "- Compose relational expressions to query a database.\n",
        "- Write different relational expressions that are equivalent."
      ],
      "metadata": {
        "id": "wP0iVwFdQdPW"
      }
    },
    {
      "cell_type": "markdown",
      "source": [
        "## Submission by Week 4 (June 9, 2024)\n"
      ],
      "metadata": {
        "id": "oxLjYzvD8P_t"
      }
    },
    {
      "cell_type": "markdown",
      "metadata": {
        "id": "NyiI0nX49EyZ"
      },
      "source": [
        "You will receive an individual \"work doc\" (which is a copy of this document) for your MP2 work. Your work doc is just the Google collab notebook titled \"CS411 MP2 - YourName.ipynb\".\n",
        "\n",
        "Ensure that you are working on your work doc, as any modifications to the Instructions document will not be saved.\n",
        "\n",
        "Fill in your code in your work doc, on which you can **write/submit** your answers and **communicate with/ask** the course staff for questions.\n",
        "\n",
        "**Please complete your work on the work doc by the submission deadline**, after which you will not have access to the document. **We will grade and provide feedback on the work doc.**\n",
        "\n"
      ]
    },
    {
      "cell_type": "markdown",
      "source": [
        "## Grading Rubric / Grading by Staff"
      ],
      "metadata": {
        "id": "nIPce71t8kn1"
      }
    },
    {
      "cell_type": "markdown",
      "source": [
        "You will receive your grades on your work doc and Coursera **in a week** after MP2 is due.\n",
        "\n",
        "---\n",
        "|Submission  |Weight|Criteria            |Comments|Grade|\n",
        "|---         |---   |---                 |---     |---  |\n",
        "|Submission 1|20    |Code is correct     |        |     |\n",
        "|Submission 2|20    |Code is correct     |        |     |\n",
        "|Submission 3|20    |Code is correct     |        |     |\n",
        "|Submission 4|10    |Variant A is correct|        |     |\n",
        "|            |10    |Variant B is correct|        |     |\n",
        "|Submission 5|10    |Variant A is correct|        |     |\n",
        "|            |10    |Variant B is correct|        |     |"
      ],
      "metadata": {
        "id": "kP4_xLv2U0tF"
      }
    },
    {
      "cell_type": "markdown",
      "source": [
        "## 1.1 Linking Dataset to Your Google Drive"
      ],
      "metadata": {
        "id": "9YvTBnM479mO"
      }
    },
    {
      "cell_type": "markdown",
      "source": [
        "### **Actions**\n",
        "\n",
        "There are two methods to access the dataset.\n",
        "1. \"Shared with me\" folder\n",
        "- Go to your Google Drive.\n",
        "- Under \"Shared with me\", find the folder \"CS411-MP2-Data\". Right click it.\n",
        "- In the pop-up menu, first click \"Organize\", then click \"Add shortcut\" to add the folder under the root of your Google Drive.\n",
        "- Then, you should see this folder appear under your \"My Drive\".\n",
        "\n",
        "See this [image](https://drive.google.com/file/d/1mUx9PCoMlq9wUqyTuP6LR7Fk0_BBPMyv/view?usp=sharing).\n",
        "\n",
        "2. Alternate instructions if you are not able to find the folder in \"Shared with me\":\n",
        "- Download [CS411-MP2-Data](https://drive.google.com/drive/folders/1l4jNJkjCJW0yBJMAPGNHoEKsE3zD4Zg7?usp=sharing).\n",
        "- Go to your Google Drive.\n",
        "- Upload the folder to your Google Drive (Click \"+ New\", click \"Folder Upload\", select the folder).\n",
        "\n",
        "See this [image](https://drive.google.com/file/d/1MPrmJRm9G-ot8VRzVBRxI-eTDMwhPVsq/view?usp=sharing)"
      ],
      "metadata": {
        "id": "6_n6mJ9b0TyB"
      }
    },
    {
      "cell_type": "markdown",
      "source": [
        "## 1.2 Importing Libraries"
      ],
      "metadata": {
        "id": "dYt2ImYUsEOl"
      }
    },
    {
      "cell_type": "markdown",
      "source": [
        "### **Actions**\n",
        "\n",
        "- Run the code below to import libraries.\n",
        "\n",
        "----"
      ],
      "metadata": {
        "id": "W5HAYlHk70Bc"
      }
    },
    {
      "cell_type": "code",
      "source": [
        "import pandas as pd\n",
        "\n",
        "# Load the Drive helper and mount\n",
        "from google.colab import drive\n",
        "drive.mount('/content/drive')"
      ],
      "metadata": {
        "id": "zeATY6UNsFQh",
        "colab": {
          "base_uri": "https://localhost:8080/"
        },
        "outputId": "0e7cf87b-c5a2-4148-ca32-62cdc5e4760e"
      },
      "execution_count": null,
      "outputs": [
        {
          "output_type": "stream",
          "name": "stdout",
          "text": [
            "Drive already mounted at /content/drive; to attempt to forcibly remount, call drive.mount(\"/content/drive\", force_remount=True).\n"
          ]
        }
      ]
    },
    {
      "cell_type": "markdown",
      "source": [
        "# 2. Basics: Classes and Utilities"
      ],
      "metadata": {
        "id": "8IVrc50w6yOi"
      }
    },
    {
      "cell_type": "markdown",
      "metadata": {
        "id": "AsVini_Z9Eyc"
      },
      "source": [
        "## 2.1 Class **Table** -- *Provided to You*"
      ]
    },
    {
      "cell_type": "markdown",
      "source": [
        "### Actions\n",
        "\n",
        "- Run the code below to define the Table class.\n",
        "\n",
        "----"
      ],
      "metadata": {
        "id": "fp3AbQQf-CJI"
      }
    },
    {
      "cell_type": "markdown",
      "source": [
        "This class defines a table (relation), which consists of a set of tuples.\n",
        "   \n",
        "#### **Table**\n",
        "\n",
        "- **getAttributes()**\n",
        "   - Gets a list of table attributes\n",
        "   - Returns: dict keys of table attributes\n",
        "- **getTuples()**\n",
        "   - Gets a list of all records in the table\n",
        "   - Returns: a list of records in the table\n",
        "- **rename_table(new_name)**\n",
        "   - Renames the table object\n",
        "   - Parameters: new_name: new name to give table object\n",
        "   - Returns: Nothing\n",
        "- **getTableSize()**\n",
        "   - Returns Size of the table object"
      ],
      "metadata": {
        "id": "5JKh9eqT-EvM"
      }
    },
    {
      "cell_type": "code",
      "source": [
        "class Table (object):\n",
        "    \"\"\"\n",
        "    Initializes Table object\n",
        "\n",
        "    \"\"\"\n",
        "    def __init__(self, name):\n",
        "        # initialize table name, schema and load data\n",
        "        self.name = name\n",
        "        self.path = \"\"\n",
        "        self.data = None\n",
        "        self.size = None\n",
        "\n",
        "\n",
        "    def createTablefromCSV (self, path):\n",
        "        \"\"\"\n",
        "        Creates a table from csv file\n",
        "        \"\"\"\n",
        "        self.path = path\n",
        "        temp_df = pd.read_csv(path)\n",
        "        self.data = temp_df.to_dict('records')\n",
        "        self.size = temp_df.size\n",
        "\n",
        "\n",
        "    def getTableSize(self):\n",
        "        \"\"\"\n",
        "        Returns size of table\n",
        "        \"\"\"\n",
        "        return self.size\n",
        "\n",
        "    def getAttributes(self):\n",
        "        \"\"\"\n",
        "        Returns table attributes\n",
        "        \"\"\"\n",
        "        return self.data[0].keys()\n",
        "\n",
        "    def getTuples(self):\n",
        "        \"\"\"\n",
        "        Returns table tuples\n",
        "        \"\"\"\n",
        "        return self.data\n",
        "\n",
        "    def getName(self):\n",
        "        \"\"\"\n",
        "        Returns name of table\n",
        "        \"\"\"\n",
        "        return self.name\n",
        "\n",
        "    def rename_table(self, new_name):\n",
        "        \"\"\"\n",
        "        Renames table\n",
        "        \"\"\"\n",
        "        self.name = new_name"
      ],
      "metadata": {
        "id": "8Ag5vsRCqLt4"
      },
      "execution_count": null,
      "outputs": []
    },
    {
      "cell_type": "markdown",
      "source": [
        "## 2.2 Class **Database** -- *Provided to You*"
      ],
      "metadata": {
        "id": "zs81Y6LQrT0r"
      }
    },
    {
      "cell_type": "markdown",
      "source": [
        "### **Actions**\n",
        "\n",
        "- Run the code below to define the Database class.\n",
        "\n",
        "----\n",
        "\n"
      ],
      "metadata": {
        "id": "rQmyc6119Qdg"
      }
    },
    {
      "cell_type": "markdown",
      "source": [
        "This class defines an overall database, which consists of a set of tables.\n",
        "\n",
        "#### **Database**  \n",
        "- **createTables (paths)**\n",
        "   - Creates tables from list of table paths\n",
        "   - Parameters: paths: list of csv file paths = ['dataset1.csv', 'dataset2.csv']\n",
        "   - Returns: Nothing\n",
        "- **getTable (table_name)**\n",
        "   - Gets Table Object. Note that all table names will be created from the name of their csv files\n",
        "   - Parameters: table_name\n",
        "   - Returns: table object\n",
        "- **showTables ()**\n",
        "   - Displays list of tables\n",
        "   - Returns: Nothing"
      ],
      "metadata": {
        "id": "qWG1S-6z9d6N"
      }
    },
    {
      "cell_type": "code",
      "source": [
        "class Database (object):\n",
        "    \"\"\"\n",
        "    Collection of Tables\n",
        "    \"\"\"\n",
        "    def __init__(self, db_name):\n",
        "        self.db_name = db_name\n",
        "        self.tables = {} #List of table objects\n",
        "\n",
        "\n",
        "    def createTables(self, paths):\n",
        "        \"\"\"\n",
        "        Creates tables from lists of paths\n",
        "        :param list of csv file paths = ['dataset1.csv', 'dataset2.csv']\n",
        "        \"\"\"\n",
        "        for path in paths:\n",
        "            table_name= path.split(\".\")[0].split('/')[-1]\n",
        "            table = Table(table_name)\n",
        "            table.createTablefromCSV(path)\n",
        "            self.tables[table_name]= table\n",
        "\n",
        "\n",
        "    def getTable(self,table_name):\n",
        "        \"\"\"\n",
        "        Returns Table Object\n",
        "        param: table name\n",
        "        returna Table Object\n",
        "        \"\"\"\n",
        "        return self.tables[table_name]\n",
        "\n",
        "    def showTables(self):\n",
        "        \"\"\"\n",
        "        Prints list of tables in the database\n",
        "        \"\"\"\n",
        "        for name in self.tables.keys():\n",
        "            print(name)"
      ],
      "metadata": {
        "id": "wLh_ArUDrnVQ"
      },
      "execution_count": null,
      "outputs": []
    },
    {
      "cell_type": "markdown",
      "source": [
        "## 2.3 Creating Database and Tables -- *Provided to You*\n"
      ],
      "metadata": {
        "id": "fpPvqoyvqZyw"
      }
    },
    {
      "cell_type": "markdown",
      "source": [
        "### **Actions**\n",
        "\n",
        "- Run the code below to create the FridayNight database and tables. It will read the data csv files you prepared in Step 1."
      ],
      "metadata": {
        "id": "Knie-aWi-RLQ"
      }
    },
    {
      "cell_type": "code",
      "execution_count": null,
      "metadata": {
        "id": "UveOFCmd9Eyd",
        "colab": {
          "base_uri": "https://localhost:8080/"
        },
        "outputId": "c9c786d0-6fbe-4b8c-d1ea-ec182c062842"
      },
      "outputs": [
        {
          "output_type": "stream",
          "name": "stdout",
          "text": [
            "Bars\n",
            "Beers\n",
            "Drinkers\n",
            "Sells\n",
            "Table size for Bars:  9\n",
            "Table attributes for Bars:  dict_keys(['name', 'addr', 'owner'])\n"
          ]
        }
      ],
      "source": [
        "FridayNight = Database(\"FridayNight\")\n",
        "\n",
        "# Create tables in database\n",
        "FridayNight.createTables(['/content/drive/My Drive/CS411-MP2-Data/Bars.csv',\n",
        "                          '/content/drive/My Drive/CS411-MP2-Data/Beers.csv',\n",
        "                          '/content/drive/My Drive/CS411-MP2-Data/Drinkers.csv',\n",
        "                          '/content/drive/My Drive/CS411-MP2-Data/Sells.csv'])\n",
        "\n",
        "# Show tables in database\n",
        "FridayNight.showTables()\n",
        "\n",
        "\n",
        "# Get Table objects\n",
        "bars= FridayNight.getTable(\"Bars\")\n",
        "beers =  FridayNight.getTable(\"Beers\")\n",
        "sells =  FridayNight.getTable(\"Sells\")\n",
        "drinkers =  FridayNight.getTable(\"Drinkers\")\n",
        "\n",
        "\n",
        "# Get Table size\n",
        "print(\"Table size for Bars: \",bars.getTableSize())\n",
        "\n",
        "\n",
        "# Get Table attributes\n",
        "print(\"Table attributes for Bars: \",bars.getAttributes())"
      ]
    },
    {
      "cell_type": "code",
      "execution_count": null,
      "metadata": {
        "id": "rD87qOpm9Eye",
        "colab": {
          "base_uri": "https://localhost:8080/"
        },
        "outputId": "c965394e-950e-4014-e238-494794f75895"
      },
      "outputs": [
        {
          "output_type": "execute_result",
          "data": {
            "text/plain": [
              "[{'name': 'SoberBar', 'addr': 'PurpleSt', 'owner': 'Jim'},\n",
              " {'name': 'GreenBar', 'addr': 'GreenSt', 'owner': 'Sally'},\n",
              " {'name': 'PurpleBar', 'addr': 'PurpleSt', 'owner': 'Paul'}]"
            ]
          },
          "metadata": {},
          "execution_count": 15
        }
      ],
      "source": [
        "bars.getTuples()"
      ]
    },
    {
      "cell_type": "code",
      "execution_count": null,
      "metadata": {
        "id": "JiBuYJYU9Eyf",
        "colab": {
          "base_uri": "https://localhost:8080/"
        },
        "outputId": "0b96c9df-39ae-4004-aa09-4ffa6a5493e6"
      },
      "outputs": [
        {
          "output_type": "execute_result",
          "data": {
            "text/plain": [
              "[{'beer': 'SamAdams', 'brewer': 'BostonBeer', 'alcohol': 0.049},\n",
              " {'beer': 'Bud', 'brewer': 'ABInBev', 'alcohol': 0.05},\n",
              " {'beer': 'BudLite', 'brewer': 'ABInBev', 'alcohol': 0.042},\n",
              " {'beer': 'Coors', 'brewer': 'Coors', 'alcohol': 0.05}]"
            ]
          },
          "metadata": {},
          "execution_count": 16
        }
      ],
      "source": [
        "beers.getTuples()"
      ]
    },
    {
      "cell_type": "markdown",
      "source": [
        "## 2.4 Utility Functions for Relations -- *Provided to You*\n"
      ],
      "metadata": {
        "id": "66mjo4TPsNz3"
      }
    },
    {
      "cell_type": "markdown",
      "source": [
        "### **Actions**\n",
        "\n",
        "- Run the code below to set up the utility functions for using tables.\n",
        "\n",
        "----"
      ],
      "metadata": {
        "id": "UJ964g9m-D8Z"
      }
    },
    {
      "cell_type": "markdown",
      "metadata": {
        "id": "dQ9SvLUp9Eyg"
      },
      "source": [
        "\n",
        "- **distinct (records)**\n",
        "    - Returns distinct records for the relation\n",
        "    \n",
        "- **view_table(relation)**\n",
        "    - Use this function to view in table format\n",
        "    \n",
        "- **check_schema (rel_one, rel_two)**\n",
        "    - Checks if attributes of two relations are identical"
      ]
    },
    {
      "cell_type": "code",
      "source": [
        "def view_table (relation: Table):\n",
        "    \"\"\"\n",
        "    Returns a table format view\n",
        "    :param relation Table Object\n",
        "    \"\"\"\n",
        "    if relation is not None:\n",
        "      return pd.DataFrame.from_dict(relation.getTuples())\n",
        "\n",
        "def distinct (records: list) -> list:\n",
        "    \"\"\"\n",
        "    Returns unique records\n",
        "    :param records list of records\n",
        "    \"\"\"\n",
        "    rel_one = pd.DataFrame.from_dict(records)\n",
        "    return rel_one.drop_duplicates().to_dict('records')\n",
        "\n",
        "def check_schema(rel_one: Table, rel_two: Table) -> bool:\n",
        "    \"\"\"\n",
        "    Checks if attributes of two relations records are identical.\n",
        "    :param rel_one Table object\n",
        "    :param rel_two Table object\n",
        "    :return: True if identical, else False\n",
        "    \"\"\"\n",
        "    rel_one_local = pd.DataFrame(rel_one.getTuples())\n",
        "    rel_two_local = pd.DataFrame(rel_two.getTuples())\n",
        "\n",
        "    return set(rel_one_local.columns.values) == set(rel_two_local.columns.values)"
      ],
      "metadata": {
        "id": "ZnIxWDt2uOT8"
      },
      "execution_count": null,
      "outputs": []
    },
    {
      "cell_type": "markdown",
      "source": [
        "## 2.5 Utility Functions for Evaluating Conditions -- *Provided to You*\n"
      ],
      "metadata": {
        "id": "kCMGdkNmsbJu"
      }
    },
    {
      "cell_type": "markdown",
      "source": [
        "### **Actions**\n",
        "- Run the code below to set up the utility functions for evaluating conditions."
      ],
      "metadata": {
        "id": "GqM06_m6_od3"
      }
    },
    {
      "cell_type": "markdown",
      "source": [
        "### Syntax of Conditions\n",
        "\n",
        "#### 1. Atomic Condition Expression\n",
        "An **atomic condition** can be expressed as follows:\n",
        "- ```( colname comp_operator value )```, for a **selection condition** over one table where colname is the column name from the table, comp_operator is a comparison operator, and value is a constant, e.g., ```( name = 'SoberBar' )```.\n",
        "\n",
        "- ```( colname_x operator colname_y )```, for a **join condition** (over two tables, where we use \"_x\" and \"_y\" to specify the column names in the *left* and the *right* tables in the join respectively, e.g., ```( beer_x = beer_y )```.\n",
        "\n",
        "**Note:**\n",
        "Our simple parser will assume you follow the following rules:\n",
        "- Each expression should be enclosed in parantheses.\n",
        "- **Use a space between every token-- parenthesis, operator, and operands.** **(IMPORTANT SYNTAX)**\n",
        "- Constant string values do not contain space, e.g., \"SoberBar\" instead of \"Sober Bar\".\n",
        "\n",
        "**Comparison Operators**:  ```!= , = , >= , <= , < , >```\n",
        "\n",
        "#### 2. Complex Condition Expression\n",
        "\n",
        "A **complex condition** can be composed by connecting atomic conditions with **logic connectives**: ```AND``` , ```OR```, e.g., ```( beer_x = beer_y ) AND ( price_y > 3.0 ) AND ( bar_y = 'SoberBar' )```.\n",
        "\n",
        "Conditions can be nested, e.g., ```( beer_x = beer_y ) AND ( ( price_y > 3.0 ) OR ( bar_y = 'SoberBar' ) )```."
      ],
      "metadata": {
        "id": "WaNa_NxMJn3H"
      }
    },
    {
      "cell_type": "code",
      "source": [
        "operator_equivalents = {\n",
        "    \"AND\" : \"&\",\n",
        "    \"OR\"  : \"|\",\n",
        "    \"NOT\" : \"~\",\n",
        "    \"\"    : \"|\",\n",
        "    \"=\"   : \"==\",\n",
        "    \">=\"  : \">=\",\n",
        "    \"<=\"  : \"<=\",\n",
        "    \"!=\"  : \"!=\",\n",
        "    \">\"   : \">\",\n",
        "    \"<\"   : \"<\"\n",
        "}\n",
        "\n",
        "def eval_exp (operand_1, operator, operand_2, tuple_):\n",
        "\n",
        "    \"\"\"\n",
        "    Evaluates expression on a record\n",
        "    You do not need to use this function directly for the MP.\n",
        "    \"\"\"\n",
        "\n",
        "    try:\n",
        "        first_col = \"tuple_[operand_1]\" if operand_1 in tuple_ else operand_1\n",
        "        second_col = \"tuple_[operand_2]\" if operand_2 in tuple_ else operand_2\n",
        "        expression = \"%s %s %s\" % (first_col, operator_equivalents[operator], second_col)\n",
        "        ret_val = int(eval(expression))\n",
        "\n",
        "    except:\n",
        "        # Expression incorrect\n",
        "        ret_val = -1\n",
        "\n",
        "    return ret_val\n",
        "\n",
        "\n",
        "def evaluate_condition ( tuple_ , condition ):\n",
        "    \"\"\"\n",
        "    Evaluates complete expression on a tuple/record\n",
        "    You do not need to use this function directly for the MP.\n",
        "    \"\"\"\n",
        "\n",
        "    operator_stack = []\n",
        "\n",
        "    # condition= \"( ( A != B ) AND ( B = C ) )\"\n",
        "    sequence = condition.split()\n",
        "\n",
        "    for element in sequence :\n",
        "\n",
        "        if element != \")\":\n",
        "            operator_stack.append(element)\n",
        "        else:\n",
        "            # pop all elements until you reach \"(\"\n",
        "            try:\n",
        "                operand_2 = operator_stack.pop()\n",
        "                operator = operator_stack.pop()\n",
        "                operand_1 = operator_stack.pop()\n",
        "\n",
        "                if operator_stack:\n",
        "                    operator_stack.pop() # removes \"(\"\n",
        "            except:\n",
        "                return -1\n",
        "\n",
        "            ret_val = eval_exp(operand_1, operator, operand_2, tuple_)\n",
        "            if ret_val == -1: return -1\n",
        "            operator_stack.append(str(ret_val))\n",
        "\n",
        "    if len(operator_stack) == 1:\n",
        "        ret_val = int(operator_stack[0])\n",
        "    else:\n",
        "        expression = ' '.join([operator if i % 2 == 0 else operator_equivalents[operator] for i, operator in enumerate(operator_stack)])\n",
        "        ret_val = eval(expression)\n",
        "\n",
        "    if ret_val:\n",
        "        return tuple_\n",
        "    else:\n",
        "        return None"
      ],
      "metadata": {
        "id": "LQcnHAtvABF8"
      },
      "execution_count": null,
      "outputs": []
    },
    {
      "cell_type": "markdown",
      "source": [
        "# 3. Operations: Relational Operators"
      ],
      "metadata": {
        "id": "eaGoqYog7MeS"
      }
    },
    {
      "cell_type": "markdown",
      "source": [
        "## 3.1 SELECT Operator -- *Provided to You*"
      ],
      "metadata": {
        "id": "dX-d9v6jAJ6D"
      }
    },
    {
      "cell_type": "markdown",
      "source": [
        "### **Actions**\n",
        "- Run the code below to define the SELECT operator."
      ],
      "metadata": {
        "id": "gqksPQgQAW06"
      }
    },
    {
      "cell_type": "markdown",
      "source": [
        "**select (relation, condition)**\n",
        "- Selects and returns records that satisfy given condition  \n",
        "- Parameters:\n",
        "  - relation: Table Object, the relation to be manipulated\n",
        "  - condition: str, the condition for selection\n",
        "- Returns:\n",
        "  - Table Object, relation that satisfy condition\n",
        "- **IMPORTANT** Check condition syntax to understand how to use Select"
      ],
      "metadata": {
        "id": "hKlbv26nSpI2"
      }
    },
    {
      "cell_type": "code",
      "source": [
        "def select( relation: Table, condition: str) -> Table:\n",
        "    \"\"\"\n",
        "    Selects and returns records that satisfy given condition\n",
        "        :param relation: Table Object, the table to be manipulated\n",
        "        :param condition: str, the condition for selection\n",
        "        :return: Table Object, relation that satisfy condition\n",
        "    \"\"\"\n",
        "\n",
        "    new_relation = []\n",
        "\n",
        "    records = relation.getTuples()\n",
        "\n",
        "    for tuple_ in records:\n",
        "        row = evaluate_condition(tuple_, condition)\n",
        "        if row == -1:\n",
        "            print(\"Condition Syntax Error\")\n",
        "            return None\n",
        "        elif row != None:\n",
        "            new_relation.append(row)\n",
        "\n",
        "    new_relation_table = Table(\"Select_Relation\")\n",
        "    new_relation_table.data = new_relation\n",
        "    return new_relation_table"
      ],
      "metadata": {
        "id": "vMTqq5eqAgZz"
      },
      "execution_count": null,
      "outputs": []
    },
    {
      "cell_type": "code",
      "source": [
        "R= select(bars , '( owner = \"Jim\" )')\n",
        "view_table(R)"
      ],
      "metadata": {
        "id": "AeOJlcSnWvYu",
        "colab": {
          "base_uri": "https://localhost:8080/",
          "height": 80
        },
        "outputId": "039b216a-4815-4805-8d7f-57893320fa79"
      },
      "execution_count": null,
      "outputs": [
        {
          "output_type": "execute_result",
          "data": {
            "text/plain": [
              "       name      addr owner\n",
              "0  SoberBar  PurpleSt   Jim"
            ],
            "text/html": [
              "\n",
              "  <div id=\"df-87a31684-bd30-4f35-a259-6dbe8e8db842\">\n",
              "    <div class=\"colab-df-container\">\n",
              "      <div>\n",
              "<style scoped>\n",
              "    .dataframe tbody tr th:only-of-type {\n",
              "        vertical-align: middle;\n",
              "    }\n",
              "\n",
              "    .dataframe tbody tr th {\n",
              "        vertical-align: top;\n",
              "    }\n",
              "\n",
              "    .dataframe thead th {\n",
              "        text-align: right;\n",
              "    }\n",
              "</style>\n",
              "<table border=\"1\" class=\"dataframe\">\n",
              "  <thead>\n",
              "    <tr style=\"text-align: right;\">\n",
              "      <th></th>\n",
              "      <th>name</th>\n",
              "      <th>addr</th>\n",
              "      <th>owner</th>\n",
              "    </tr>\n",
              "  </thead>\n",
              "  <tbody>\n",
              "    <tr>\n",
              "      <th>0</th>\n",
              "      <td>SoberBar</td>\n",
              "      <td>PurpleSt</td>\n",
              "      <td>Jim</td>\n",
              "    </tr>\n",
              "  </tbody>\n",
              "</table>\n",
              "</div>\n",
              "      <button class=\"colab-df-convert\" onclick=\"convertToInteractive('df-87a31684-bd30-4f35-a259-6dbe8e8db842')\"\n",
              "              title=\"Convert this dataframe to an interactive table.\"\n",
              "              style=\"display:none;\">\n",
              "        \n",
              "  <svg xmlns=\"http://www.w3.org/2000/svg\" height=\"24px\"viewBox=\"0 0 24 24\"\n",
              "       width=\"24px\">\n",
              "    <path d=\"M0 0h24v24H0V0z\" fill=\"none\"/>\n",
              "    <path d=\"M18.56 5.44l.94 2.06.94-2.06 2.06-.94-2.06-.94-.94-2.06-.94 2.06-2.06.94zm-11 1L8.5 8.5l.94-2.06 2.06-.94-2.06-.94L8.5 2.5l-.94 2.06-2.06.94zm10 10l.94 2.06.94-2.06 2.06-.94-2.06-.94-.94-2.06-.94 2.06-2.06.94z\"/><path d=\"M17.41 7.96l-1.37-1.37c-.4-.4-.92-.59-1.43-.59-.52 0-1.04.2-1.43.59L10.3 9.45l-7.72 7.72c-.78.78-.78 2.05 0 2.83L4 21.41c.39.39.9.59 1.41.59.51 0 1.02-.2 1.41-.59l7.78-7.78 2.81-2.81c.8-.78.8-2.07 0-2.86zM5.41 20L4 18.59l7.72-7.72 1.47 1.35L5.41 20z\"/>\n",
              "  </svg>\n",
              "      </button>\n",
              "      \n",
              "  <style>\n",
              "    .colab-df-container {\n",
              "      display:flex;\n",
              "      flex-wrap:wrap;\n",
              "      gap: 12px;\n",
              "    }\n",
              "\n",
              "    .colab-df-convert {\n",
              "      background-color: #E8F0FE;\n",
              "      border: none;\n",
              "      border-radius: 50%;\n",
              "      cursor: pointer;\n",
              "      display: none;\n",
              "      fill: #1967D2;\n",
              "      height: 32px;\n",
              "      padding: 0 0 0 0;\n",
              "      width: 32px;\n",
              "    }\n",
              "\n",
              "    .colab-df-convert:hover {\n",
              "      background-color: #E2EBFA;\n",
              "      box-shadow: 0px 1px 2px rgba(60, 64, 67, 0.3), 0px 1px 3px 1px rgba(60, 64, 67, 0.15);\n",
              "      fill: #174EA6;\n",
              "    }\n",
              "\n",
              "    [theme=dark] .colab-df-convert {\n",
              "      background-color: #3B4455;\n",
              "      fill: #D2E3FC;\n",
              "    }\n",
              "\n",
              "    [theme=dark] .colab-df-convert:hover {\n",
              "      background-color: #434B5C;\n",
              "      box-shadow: 0px 1px 3px 1px rgba(0, 0, 0, 0.15);\n",
              "      filter: drop-shadow(0px 1px 2px rgba(0, 0, 0, 0.3));\n",
              "      fill: #FFFFFF;\n",
              "    }\n",
              "  </style>\n",
              "\n",
              "      <script>\n",
              "        const buttonEl =\n",
              "          document.querySelector('#df-87a31684-bd30-4f35-a259-6dbe8e8db842 button.colab-df-convert');\n",
              "        buttonEl.style.display =\n",
              "          google.colab.kernel.accessAllowed ? 'block' : 'none';\n",
              "\n",
              "        async function convertToInteractive(key) {\n",
              "          const element = document.querySelector('#df-87a31684-bd30-4f35-a259-6dbe8e8db842');\n",
              "          const dataTable =\n",
              "            await google.colab.kernel.invokeFunction('convertToInteractive',\n",
              "                                                     [key], {});\n",
              "          if (!dataTable) return;\n",
              "\n",
              "          const docLinkHtml = 'Like what you see? Visit the ' +\n",
              "            '<a target=\"_blank\" href=https://colab.research.google.com/notebooks/data_table.ipynb>data table notebook</a>'\n",
              "            + ' to learn more about interactive tables.';\n",
              "          element.innerHTML = '';\n",
              "          dataTable['output_type'] = 'display_data';\n",
              "          await google.colab.output.renderOutput(dataTable, element);\n",
              "          const docLink = document.createElement('div');\n",
              "          docLink.innerHTML = docLinkHtml;\n",
              "          element.appendChild(docLink);\n",
              "        }\n",
              "      </script>\n",
              "    </div>\n",
              "  </div>\n",
              "  "
            ]
          },
          "metadata": {},
          "execution_count": 19
        }
      ]
    },
    {
      "cell_type": "markdown",
      "source": [
        "## 3.2 PROJECT Operator -- *You Provide It* **(Submission 1)**"
      ],
      "metadata": {
        "id": "aOPTyoPxBJDt"
      }
    },
    {
      "cell_type": "markdown",
      "source": [
        "### **Actions**\n",
        "- Implement the PROJECT operator."
      ],
      "metadata": {
        "id": "OSSdOa3OBLE5"
      }
    },
    {
      "cell_type": "markdown",
      "source": [
        "**project (relation, column_list)**\n",
        "- Performs Projection on a given relation\n",
        "- Parameters:\n",
        "  - relation: Table Object, the relation to be manipulated\n",
        "  - columns: list of str, list of column names to be projected\n",
        "- Returns:\n",
        "  - Table Object, the projected relation\n",
        "- Make sure the column names in the input columns exist in the relation. **Otherwise**, print error message \"*Key(s) in column does not exist in the relation!*\" and return *None*.\n",
        "- Project operator function should return **distinct** records.\n",
        "- **DO NOT** use pandas methods to construct operator function. You can use:\n",
        "  - python's list/dictionary manipulation\n",
        "  - the utility functions provided above\n",
        "  - other relational operators implemented in this notebook\n",
        "- Columns in result/output can be displayed in any order."
      ],
      "metadata": {
        "id": "zWIjMGTCS22-"
      }
    },
    {
      "cell_type": "code",
      "source": [
        "def project(relation: Table, columns: list) -> Table:\n",
        "    \"\"\"\n",
        "    Performs project on a given relation\n",
        "        :param relation: Table Object, the table to be manipulated\n",
        "        :param columns: list of str, list of column names to be projected\n",
        "        :return: Table Object, the projected relation\n",
        "\n",
        "    \"\"\"\n",
        "    projected_relation = Table(\"Project_Relation\")\n",
        "\n",
        "    # Enter your code below\n",
        "\n",
        "    return projected_relation"
      ],
      "metadata": {
        "id": "S1U8RTdGBrbE"
      },
      "execution_count": null,
      "outputs": []
    },
    {
      "cell_type": "code",
      "source": [
        "R = project(bars, [\"owner\", \"name\"])\n",
        "view_table(R)"
      ],
      "metadata": {
        "id": "nK6QsKCrW40i"
      },
      "execution_count": null,
      "outputs": []
    },
    {
      "cell_type": "markdown",
      "source": [
        "## 3.3 UNION Operator -- *Provided to You*"
      ],
      "metadata": {
        "id": "LgFIM7WKAkwk"
      }
    },
    {
      "cell_type": "markdown",
      "source": [
        "### **Actions**\n",
        "- Run the code below to define the UNION operator."
      ],
      "metadata": {
        "id": "tuvE-QMPAq4j"
      }
    },
    {
      "cell_type": "markdown",
      "source": [
        "**union (relation_one, relation_two)**\n",
        "- Performs Union operation on two relations\n",
        "- Parameters:\n",
        "  - relation_one: Table Object, one relation to be unioned\n",
        "  - relation_two: Table Object, the other relation to be unioned\n",
        "- Returns:\n",
        "  - Table Object, the unioned relation"
      ],
      "metadata": {
        "id": "jRhcRnuWS-jj"
      }
    },
    {
      "cell_type": "code",
      "source": [
        "def union ( relation_one: Table, relation_two: Table ) -> Table:\n",
        "    \"\"\"\n",
        "    Performs Union operation on two relations\n",
        "        :param relation_one: Table Object, one relation to be unioned\n",
        "        :param relation_two: Table object, the other relation to be unioned\n",
        "        :return: Table Object, the unioned relation\n",
        "\n",
        "    \"\"\"\n",
        "\n",
        "\n",
        "    rel_one_records = relation_one.getTuples()\n",
        "    rel_two_records = relation_two.getTuples()\n",
        "\n",
        "    if check_schema(relation_one, relation_two):\n",
        "\n",
        "        distinct_records = distinct(rel_one_records + rel_two_records)\n",
        "        union_relation = Table(\"UnionRelation\")\n",
        "        union_relation.data = distinct_records\n",
        "        return union_relation\n",
        "\n",
        "    else:\n",
        "        print(\"relation_one and relation_two does not have same schema!\")\n",
        "        return None\n",
        "    return"
      ],
      "metadata": {
        "id": "r9BngyfyBlQh"
      },
      "execution_count": null,
      "outputs": []
    },
    {
      "cell_type": "code",
      "source": [
        "R1 = select(bars, '( name = \"SoberBar\" )')\n",
        "R2 = select(bars, '( name = \"GreenBar\" )')\n",
        "R = union(R1, R2)\n",
        "view_table(R)"
      ],
      "metadata": {
        "id": "eZxBMHWpXDO8",
        "colab": {
          "base_uri": "https://localhost:8080/",
          "height": 112
        },
        "outputId": "77dbca45-24d6-4c9d-f9a8-86293efbd30c"
      },
      "execution_count": null,
      "outputs": [
        {
          "output_type": "execute_result",
          "data": {
            "text/plain": [
              "       name      addr  owner\n",
              "0  SoberBar  PurpleSt    Jim\n",
              "1  GreenBar   GreenSt  Sally"
            ],
            "text/html": [
              "\n",
              "  <div id=\"df-36b9f50b-5728-4005-92e6-f53ce244e8b0\">\n",
              "    <div class=\"colab-df-container\">\n",
              "      <div>\n",
              "<style scoped>\n",
              "    .dataframe tbody tr th:only-of-type {\n",
              "        vertical-align: middle;\n",
              "    }\n",
              "\n",
              "    .dataframe tbody tr th {\n",
              "        vertical-align: top;\n",
              "    }\n",
              "\n",
              "    .dataframe thead th {\n",
              "        text-align: right;\n",
              "    }\n",
              "</style>\n",
              "<table border=\"1\" class=\"dataframe\">\n",
              "  <thead>\n",
              "    <tr style=\"text-align: right;\">\n",
              "      <th></th>\n",
              "      <th>name</th>\n",
              "      <th>addr</th>\n",
              "      <th>owner</th>\n",
              "    </tr>\n",
              "  </thead>\n",
              "  <tbody>\n",
              "    <tr>\n",
              "      <th>0</th>\n",
              "      <td>SoberBar</td>\n",
              "      <td>PurpleSt</td>\n",
              "      <td>Jim</td>\n",
              "    </tr>\n",
              "    <tr>\n",
              "      <th>1</th>\n",
              "      <td>GreenBar</td>\n",
              "      <td>GreenSt</td>\n",
              "      <td>Sally</td>\n",
              "    </tr>\n",
              "  </tbody>\n",
              "</table>\n",
              "</div>\n",
              "      <button class=\"colab-df-convert\" onclick=\"convertToInteractive('df-36b9f50b-5728-4005-92e6-f53ce244e8b0')\"\n",
              "              title=\"Convert this dataframe to an interactive table.\"\n",
              "              style=\"display:none;\">\n",
              "        \n",
              "  <svg xmlns=\"http://www.w3.org/2000/svg\" height=\"24px\"viewBox=\"0 0 24 24\"\n",
              "       width=\"24px\">\n",
              "    <path d=\"M0 0h24v24H0V0z\" fill=\"none\"/>\n",
              "    <path d=\"M18.56 5.44l.94 2.06.94-2.06 2.06-.94-2.06-.94-.94-2.06-.94 2.06-2.06.94zm-11 1L8.5 8.5l.94-2.06 2.06-.94-2.06-.94L8.5 2.5l-.94 2.06-2.06.94zm10 10l.94 2.06.94-2.06 2.06-.94-2.06-.94-.94-2.06-.94 2.06-2.06.94z\"/><path d=\"M17.41 7.96l-1.37-1.37c-.4-.4-.92-.59-1.43-.59-.52 0-1.04.2-1.43.59L10.3 9.45l-7.72 7.72c-.78.78-.78 2.05 0 2.83L4 21.41c.39.39.9.59 1.41.59.51 0 1.02-.2 1.41-.59l7.78-7.78 2.81-2.81c.8-.78.8-2.07 0-2.86zM5.41 20L4 18.59l7.72-7.72 1.47 1.35L5.41 20z\"/>\n",
              "  </svg>\n",
              "      </button>\n",
              "      \n",
              "  <style>\n",
              "    .colab-df-container {\n",
              "      display:flex;\n",
              "      flex-wrap:wrap;\n",
              "      gap: 12px;\n",
              "    }\n",
              "\n",
              "    .colab-df-convert {\n",
              "      background-color: #E8F0FE;\n",
              "      border: none;\n",
              "      border-radius: 50%;\n",
              "      cursor: pointer;\n",
              "      display: none;\n",
              "      fill: #1967D2;\n",
              "      height: 32px;\n",
              "      padding: 0 0 0 0;\n",
              "      width: 32px;\n",
              "    }\n",
              "\n",
              "    .colab-df-convert:hover {\n",
              "      background-color: #E2EBFA;\n",
              "      box-shadow: 0px 1px 2px rgba(60, 64, 67, 0.3), 0px 1px 3px 1px rgba(60, 64, 67, 0.15);\n",
              "      fill: #174EA6;\n",
              "    }\n",
              "\n",
              "    [theme=dark] .colab-df-convert {\n",
              "      background-color: #3B4455;\n",
              "      fill: #D2E3FC;\n",
              "    }\n",
              "\n",
              "    [theme=dark] .colab-df-convert:hover {\n",
              "      background-color: #434B5C;\n",
              "      box-shadow: 0px 1px 3px 1px rgba(0, 0, 0, 0.15);\n",
              "      filter: drop-shadow(0px 1px 2px rgba(0, 0, 0, 0.3));\n",
              "      fill: #FFFFFF;\n",
              "    }\n",
              "  </style>\n",
              "\n",
              "      <script>\n",
              "        const buttonEl =\n",
              "          document.querySelector('#df-36b9f50b-5728-4005-92e6-f53ce244e8b0 button.colab-df-convert');\n",
              "        buttonEl.style.display =\n",
              "          google.colab.kernel.accessAllowed ? 'block' : 'none';\n",
              "\n",
              "        async function convertToInteractive(key) {\n",
              "          const element = document.querySelector('#df-36b9f50b-5728-4005-92e6-f53ce244e8b0');\n",
              "          const dataTable =\n",
              "            await google.colab.kernel.invokeFunction('convertToInteractive',\n",
              "                                                     [key], {});\n",
              "          if (!dataTable) return;\n",
              "\n",
              "          const docLinkHtml = 'Like what you see? Visit the ' +\n",
              "            '<a target=\"_blank\" href=https://colab.research.google.com/notebooks/data_table.ipynb>data table notebook</a>'\n",
              "            + ' to learn more about interactive tables.';\n",
              "          element.innerHTML = '';\n",
              "          dataTable['output_type'] = 'display_data';\n",
              "          await google.colab.output.renderOutput(dataTable, element);\n",
              "          const docLink = document.createElement('div');\n",
              "          docLink.innerHTML = docLinkHtml;\n",
              "          element.appendChild(docLink);\n",
              "        }\n",
              "      </script>\n",
              "    </div>\n",
              "  </div>\n",
              "  "
            ]
          },
          "metadata": {},
          "execution_count": 21
        }
      ]
    },
    {
      "cell_type": "markdown",
      "source": [
        "## 3.4 Difference Operator - *Provided to You*"
      ],
      "metadata": {
        "id": "7GftWvpsgGqd"
      }
    },
    {
      "cell_type": "markdown",
      "source": [
        "### **Actions**\n",
        "- Run the code below to define the SET DIFFERENCE operator."
      ],
      "metadata": {
        "id": "sgGC0_TfgTUg"
      }
    },
    {
      "cell_type": "markdown",
      "source": [
        "**set_difference (relation_one, relation_two)**\n",
        "- Performs Set Difference on two relations\n",
        "- Parameters:\n",
        "  - relation_one: Table Object, the R1 relation in the set difference, or the minuend\n",
        "  - relation_two: Table Object, the R2 relation in the set difference, or the subtrahend\n",
        "- Returns:\n",
        "  - Table Object, the resulted relation after R1 - R2"
      ],
      "metadata": {
        "id": "F_kme82CghR-"
      }
    },
    {
      "cell_type": "code",
      "source": [
        "def set_difference (relation_one: Table, relation_two: Table) -> Table:\n",
        "    \"\"\"\n",
        "    Performs set difference on two relations\n",
        "        :param relation_one: Table Object, the R1 relation in the set difference, or the minuend\n",
        "        :param relation_two: Table Object, the R2 relation in the set difference, or the subtrahend\n",
        "        :return: relation Table Object, the resulted relation after R1 - R2\n",
        "\n",
        "    \"\"\"\n",
        "\n",
        "    records: list = []\n",
        "    relation_one_records = relation_one.getTuples()\n",
        "    relation_two_records = relation_two.getTuples()\n",
        "\n",
        "    if not check_schema ( relation_one, relation_two):\n",
        "        print(\"relation_one and relation_two does not have same schema!\")\n",
        "        return None\n",
        "\n",
        "    for record in relation_one_records:\n",
        "        if record not in relation_two_records:\n",
        "            records.append(record)\n",
        "\n",
        "    set_diff_table = Table (\"SetDifference\")\n",
        "    set_diff_table.data = distinct(records)\n",
        "    return set_diff_table"
      ],
      "metadata": {
        "id": "8IYHRvmlgPRL"
      },
      "execution_count": null,
      "outputs": []
    },
    {
      "cell_type": "code",
      "source": [
        "R1 = select (bars, '( name = \"SoberBar\" )')\n",
        "view_table(set_difference ( bars, R1 ))"
      ],
      "metadata": {
        "id": "4-Ke6QzQgsF4",
        "colab": {
          "base_uri": "https://localhost:8080/",
          "height": 112
        },
        "outputId": "78b4e61a-4831-4a90-d6db-fb70605548af"
      },
      "execution_count": null,
      "outputs": [
        {
          "output_type": "execute_result",
          "data": {
            "text/plain": [
              "        name      addr  owner\n",
              "0   GreenBar   GreenSt  Sally\n",
              "1  PurpleBar  PurpleSt   Paul"
            ],
            "text/html": [
              "\n",
              "  <div id=\"df-93dbde28-24e7-45d4-8c58-3cf742790bf2\">\n",
              "    <div class=\"colab-df-container\">\n",
              "      <div>\n",
              "<style scoped>\n",
              "    .dataframe tbody tr th:only-of-type {\n",
              "        vertical-align: middle;\n",
              "    }\n",
              "\n",
              "    .dataframe tbody tr th {\n",
              "        vertical-align: top;\n",
              "    }\n",
              "\n",
              "    .dataframe thead th {\n",
              "        text-align: right;\n",
              "    }\n",
              "</style>\n",
              "<table border=\"1\" class=\"dataframe\">\n",
              "  <thead>\n",
              "    <tr style=\"text-align: right;\">\n",
              "      <th></th>\n",
              "      <th>name</th>\n",
              "      <th>addr</th>\n",
              "      <th>owner</th>\n",
              "    </tr>\n",
              "  </thead>\n",
              "  <tbody>\n",
              "    <tr>\n",
              "      <th>0</th>\n",
              "      <td>GreenBar</td>\n",
              "      <td>GreenSt</td>\n",
              "      <td>Sally</td>\n",
              "    </tr>\n",
              "    <tr>\n",
              "      <th>1</th>\n",
              "      <td>PurpleBar</td>\n",
              "      <td>PurpleSt</td>\n",
              "      <td>Paul</td>\n",
              "    </tr>\n",
              "  </tbody>\n",
              "</table>\n",
              "</div>\n",
              "      <button class=\"colab-df-convert\" onclick=\"convertToInteractive('df-93dbde28-24e7-45d4-8c58-3cf742790bf2')\"\n",
              "              title=\"Convert this dataframe to an interactive table.\"\n",
              "              style=\"display:none;\">\n",
              "        \n",
              "  <svg xmlns=\"http://www.w3.org/2000/svg\" height=\"24px\"viewBox=\"0 0 24 24\"\n",
              "       width=\"24px\">\n",
              "    <path d=\"M0 0h24v24H0V0z\" fill=\"none\"/>\n",
              "    <path d=\"M18.56 5.44l.94 2.06.94-2.06 2.06-.94-2.06-.94-.94-2.06-.94 2.06-2.06.94zm-11 1L8.5 8.5l.94-2.06 2.06-.94-2.06-.94L8.5 2.5l-.94 2.06-2.06.94zm10 10l.94 2.06.94-2.06 2.06-.94-2.06-.94-.94-2.06-.94 2.06-2.06.94z\"/><path d=\"M17.41 7.96l-1.37-1.37c-.4-.4-.92-.59-1.43-.59-.52 0-1.04.2-1.43.59L10.3 9.45l-7.72 7.72c-.78.78-.78 2.05 0 2.83L4 21.41c.39.39.9.59 1.41.59.51 0 1.02-.2 1.41-.59l7.78-7.78 2.81-2.81c.8-.78.8-2.07 0-2.86zM5.41 20L4 18.59l7.72-7.72 1.47 1.35L5.41 20z\"/>\n",
              "  </svg>\n",
              "      </button>\n",
              "      \n",
              "  <style>\n",
              "    .colab-df-container {\n",
              "      display:flex;\n",
              "      flex-wrap:wrap;\n",
              "      gap: 12px;\n",
              "    }\n",
              "\n",
              "    .colab-df-convert {\n",
              "      background-color: #E8F0FE;\n",
              "      border: none;\n",
              "      border-radius: 50%;\n",
              "      cursor: pointer;\n",
              "      display: none;\n",
              "      fill: #1967D2;\n",
              "      height: 32px;\n",
              "      padding: 0 0 0 0;\n",
              "      width: 32px;\n",
              "    }\n",
              "\n",
              "    .colab-df-convert:hover {\n",
              "      background-color: #E2EBFA;\n",
              "      box-shadow: 0px 1px 2px rgba(60, 64, 67, 0.3), 0px 1px 3px 1px rgba(60, 64, 67, 0.15);\n",
              "      fill: #174EA6;\n",
              "    }\n",
              "\n",
              "    [theme=dark] .colab-df-convert {\n",
              "      background-color: #3B4455;\n",
              "      fill: #D2E3FC;\n",
              "    }\n",
              "\n",
              "    [theme=dark] .colab-df-convert:hover {\n",
              "      background-color: #434B5C;\n",
              "      box-shadow: 0px 1px 3px 1px rgba(0, 0, 0, 0.15);\n",
              "      filter: drop-shadow(0px 1px 2px rgba(0, 0, 0, 0.3));\n",
              "      fill: #FFFFFF;\n",
              "    }\n",
              "  </style>\n",
              "\n",
              "      <script>\n",
              "        const buttonEl =\n",
              "          document.querySelector('#df-93dbde28-24e7-45d4-8c58-3cf742790bf2 button.colab-df-convert');\n",
              "        buttonEl.style.display =\n",
              "          google.colab.kernel.accessAllowed ? 'block' : 'none';\n",
              "\n",
              "        async function convertToInteractive(key) {\n",
              "          const element = document.querySelector('#df-93dbde28-24e7-45d4-8c58-3cf742790bf2');\n",
              "          const dataTable =\n",
              "            await google.colab.kernel.invokeFunction('convertToInteractive',\n",
              "                                                     [key], {});\n",
              "          if (!dataTable) return;\n",
              "\n",
              "          const docLinkHtml = 'Like what you see? Visit the ' +\n",
              "            '<a target=\"_blank\" href=https://colab.research.google.com/notebooks/data_table.ipynb>data table notebook</a>'\n",
              "            + ' to learn more about interactive tables.';\n",
              "          element.innerHTML = '';\n",
              "          dataTable['output_type'] = 'display_data';\n",
              "          await google.colab.output.renderOutput(dataTable, element);\n",
              "          const docLink = document.createElement('div');\n",
              "          docLink.innerHTML = docLinkHtml;\n",
              "          element.appendChild(docLink);\n",
              "        }\n",
              "      </script>\n",
              "    </div>\n",
              "  </div>\n",
              "  "
            ]
          },
          "metadata": {},
          "execution_count": 23
        }
      ]
    },
    {
      "cell_type": "markdown",
      "source": [
        "## 3.5 INTERSECT Operator -- *You Provide It* **(Submission 2)**"
      ],
      "metadata": {
        "id": "9pemnS3QSGd1"
      }
    },
    {
      "cell_type": "markdown",
      "source": [
        "### **Actions**\n",
        "- Implement the INTERSECT operator."
      ],
      "metadata": {
        "id": "iR1eEhnFSLQF"
      }
    },
    {
      "cell_type": "markdown",
      "source": [
        "**intersect (relation_one, relation_two)**\n",
        "- Performs intersection on two relations\n",
        "- Parameters:\n",
        "  - relation_one: Table Object, one relation for intersect\n",
        "  - relation_two: Table Object, the other relation for intersect\n",
        "- Returns:\n",
        "  - Table Object, the intersection of the two relations\n",
        "- Make sure both relations share the same attributes. **Otherwise**, print error message \"*relation_one and relation_two does not have same schema!*\" and return *None*.\n",
        "- Intersect operator function should return **distinct** records.\n",
        "- **DO NOT** use pandas methods to construct operator function. You can use:\n",
        "  - python's list/dictionary manipulation\n",
        "  - the utility functions provided above\n",
        "  - other relational operators implemented in this notebook\n",
        "- Columns in result/output can be displayed in any order."
      ],
      "metadata": {
        "id": "GQmJvc6TSO4j"
      }
    },
    {
      "cell_type": "code",
      "source": [
        "def intersect (relation_one: Table, relation_two: Table) -> Table:\n",
        "    \"\"\"\n",
        "    Performs intersect on two relations\n",
        "        :param relation_one: Table object, one relation for intersect\n",
        "        :param relation_two: Table object, the other relation for intersect\n",
        "        :return: Table Object, the intersection of the two relations\n",
        "\n",
        "    \"\"\"\n",
        "    intersected_relation = Table(\"Intersect_Relation\")\n",
        "\n",
        "    # Enter your code below\n",
        "    return intersected_relation"
      ],
      "metadata": {
        "id": "GI89sQUYST9-"
      },
      "execution_count": null,
      "outputs": []
    },
    {
      "cell_type": "code",
      "source": [
        "relation_intersect = select (bars, \"( name = 'SoberBar' )\")\n",
        "R = intersect(bars, relation_intersect)\n",
        "view_table(R)"
      ],
      "metadata": {
        "id": "3wsoteOSSW8E"
      },
      "execution_count": null,
      "outputs": []
    },
    {
      "cell_type": "markdown",
      "source": [
        "## 3.6 CARTESIAN PRODUCT Operator -- *Provided to You*"
      ],
      "metadata": {
        "id": "LcA64khGB0vi"
      }
    },
    {
      "cell_type": "markdown",
      "source": [
        "### **Actions**\n",
        "- Run the code below to define the CARTESIAN PRODUCT operator."
      ],
      "metadata": {
        "id": "88peAa3gB-2b"
      }
    },
    {
      "cell_type": "markdown",
      "source": [
        "**cartesian (relation_one, relation_two)**\n",
        "- Performs Cartesian operation on two relations\n",
        "- Parameters:\n",
        "  - relation_one: Table Object, the R1 relation in the cartesian product\n",
        "  - relation_two: Table Object, the R2 relation in the cartesian product\n",
        "- Returns:\n",
        "  - Table Object, the resulted relation after R1 $\\times$ R2\n",
        "- **IMPORTANT** Doing this operation adds \"_x\" to left relation's attribute names and \"_y\" to right relation's attribute names."
      ],
      "metadata": {
        "id": "bQ4HgVrETKAC"
      }
    },
    {
      "cell_type": "code",
      "source": [
        "def cartesian (relation_one: Table, relation_two: Table) -> Table:\n",
        "    \"\"\"\n",
        "    Performs Cartesian operation on two relations\n",
        "        :param relation_one: Table object, the R1 relation in the cartesian product\n",
        "        :param relation_two: Table object, the R2 relation in the cartesian product\n",
        "        :return: Table object, the resulted relation after R1 × R2\n",
        "    \"\"\"\n",
        "    relation_one_records = relation_one.getTuples()\n",
        "    relation_two_records = relation_two.getTuples()\n",
        "    records: list = []\n",
        "    for rec1 in relation_one_records:\n",
        "        for rec2 in relation_two_records:\n",
        "            new_record: dict = {str(key1) + \"_x\" : rec1[key1] for key1 in rec1}\n",
        "            new_record.update({str(key2) + \"_y\" : rec2[key2] for key2 in rec2})\n",
        "            records.append(new_record)\n",
        "\n",
        "    cartesian_table = Table(\"CartesianTable\")\n",
        "    cartesian_table.data = records\n",
        "    return cartesian_table"
      ],
      "metadata": {
        "id": "UR-fKKw2CWU8"
      },
      "execution_count": null,
      "outputs": []
    },
    {
      "cell_type": "code",
      "source": [
        "R = cartesian(bars, drinkers)\n",
        "view_table(R)"
      ],
      "metadata": {
        "id": "kubwShszXKR0",
        "colab": {
          "base_uri": "https://localhost:8080/",
          "height": 331
        },
        "outputId": "e1d1e8aa-a41c-40a8-aa3e-25f4ba542dd4"
      },
      "execution_count": null,
      "outputs": [
        {
          "output_type": "execute_result",
          "data": {
            "text/plain": [
              "      name_x    addr_x owner_x name_y   addr_y  hobby_y frequent_y\n",
              "0   SoberBar  PurpleSt     Jim   Alex  GreenSt  Reading   SoberBar\n",
              "1   SoberBar  PurpleSt     Jim  Betty   KingSt  Singing   GreenBar\n",
              "2   SoberBar  PurpleSt     Jim  Cindy  GreenSt   Hiking   GreenBar\n",
              "3   GreenBar   GreenSt   Sally   Alex  GreenSt  Reading   SoberBar\n",
              "4   GreenBar   GreenSt   Sally  Betty   KingSt  Singing   GreenBar\n",
              "5   GreenBar   GreenSt   Sally  Cindy  GreenSt   Hiking   GreenBar\n",
              "6  PurpleBar  PurpleSt    Paul   Alex  GreenSt  Reading   SoberBar\n",
              "7  PurpleBar  PurpleSt    Paul  Betty   KingSt  Singing   GreenBar\n",
              "8  PurpleBar  PurpleSt    Paul  Cindy  GreenSt   Hiking   GreenBar"
            ],
            "text/html": [
              "\n",
              "  <div id=\"df-8894541b-b351-46c8-b281-571cb19346a9\">\n",
              "    <div class=\"colab-df-container\">\n",
              "      <div>\n",
              "<style scoped>\n",
              "    .dataframe tbody tr th:only-of-type {\n",
              "        vertical-align: middle;\n",
              "    }\n",
              "\n",
              "    .dataframe tbody tr th {\n",
              "        vertical-align: top;\n",
              "    }\n",
              "\n",
              "    .dataframe thead th {\n",
              "        text-align: right;\n",
              "    }\n",
              "</style>\n",
              "<table border=\"1\" class=\"dataframe\">\n",
              "  <thead>\n",
              "    <tr style=\"text-align: right;\">\n",
              "      <th></th>\n",
              "      <th>name_x</th>\n",
              "      <th>addr_x</th>\n",
              "      <th>owner_x</th>\n",
              "      <th>name_y</th>\n",
              "      <th>addr_y</th>\n",
              "      <th>hobby_y</th>\n",
              "      <th>frequent_y</th>\n",
              "    </tr>\n",
              "  </thead>\n",
              "  <tbody>\n",
              "    <tr>\n",
              "      <th>0</th>\n",
              "      <td>SoberBar</td>\n",
              "      <td>PurpleSt</td>\n",
              "      <td>Jim</td>\n",
              "      <td>Alex</td>\n",
              "      <td>GreenSt</td>\n",
              "      <td>Reading</td>\n",
              "      <td>SoberBar</td>\n",
              "    </tr>\n",
              "    <tr>\n",
              "      <th>1</th>\n",
              "      <td>SoberBar</td>\n",
              "      <td>PurpleSt</td>\n",
              "      <td>Jim</td>\n",
              "      <td>Betty</td>\n",
              "      <td>KingSt</td>\n",
              "      <td>Singing</td>\n",
              "      <td>GreenBar</td>\n",
              "    </tr>\n",
              "    <tr>\n",
              "      <th>2</th>\n",
              "      <td>SoberBar</td>\n",
              "      <td>PurpleSt</td>\n",
              "      <td>Jim</td>\n",
              "      <td>Cindy</td>\n",
              "      <td>GreenSt</td>\n",
              "      <td>Hiking</td>\n",
              "      <td>GreenBar</td>\n",
              "    </tr>\n",
              "    <tr>\n",
              "      <th>3</th>\n",
              "      <td>GreenBar</td>\n",
              "      <td>GreenSt</td>\n",
              "      <td>Sally</td>\n",
              "      <td>Alex</td>\n",
              "      <td>GreenSt</td>\n",
              "      <td>Reading</td>\n",
              "      <td>SoberBar</td>\n",
              "    </tr>\n",
              "    <tr>\n",
              "      <th>4</th>\n",
              "      <td>GreenBar</td>\n",
              "      <td>GreenSt</td>\n",
              "      <td>Sally</td>\n",
              "      <td>Betty</td>\n",
              "      <td>KingSt</td>\n",
              "      <td>Singing</td>\n",
              "      <td>GreenBar</td>\n",
              "    </tr>\n",
              "    <tr>\n",
              "      <th>5</th>\n",
              "      <td>GreenBar</td>\n",
              "      <td>GreenSt</td>\n",
              "      <td>Sally</td>\n",
              "      <td>Cindy</td>\n",
              "      <td>GreenSt</td>\n",
              "      <td>Hiking</td>\n",
              "      <td>GreenBar</td>\n",
              "    </tr>\n",
              "    <tr>\n",
              "      <th>6</th>\n",
              "      <td>PurpleBar</td>\n",
              "      <td>PurpleSt</td>\n",
              "      <td>Paul</td>\n",
              "      <td>Alex</td>\n",
              "      <td>GreenSt</td>\n",
              "      <td>Reading</td>\n",
              "      <td>SoberBar</td>\n",
              "    </tr>\n",
              "    <tr>\n",
              "      <th>7</th>\n",
              "      <td>PurpleBar</td>\n",
              "      <td>PurpleSt</td>\n",
              "      <td>Paul</td>\n",
              "      <td>Betty</td>\n",
              "      <td>KingSt</td>\n",
              "      <td>Singing</td>\n",
              "      <td>GreenBar</td>\n",
              "    </tr>\n",
              "    <tr>\n",
              "      <th>8</th>\n",
              "      <td>PurpleBar</td>\n",
              "      <td>PurpleSt</td>\n",
              "      <td>Paul</td>\n",
              "      <td>Cindy</td>\n",
              "      <td>GreenSt</td>\n",
              "      <td>Hiking</td>\n",
              "      <td>GreenBar</td>\n",
              "    </tr>\n",
              "  </tbody>\n",
              "</table>\n",
              "</div>\n",
              "      <button class=\"colab-df-convert\" onclick=\"convertToInteractive('df-8894541b-b351-46c8-b281-571cb19346a9')\"\n",
              "              title=\"Convert this dataframe to an interactive table.\"\n",
              "              style=\"display:none;\">\n",
              "        \n",
              "  <svg xmlns=\"http://www.w3.org/2000/svg\" height=\"24px\"viewBox=\"0 0 24 24\"\n",
              "       width=\"24px\">\n",
              "    <path d=\"M0 0h24v24H0V0z\" fill=\"none\"/>\n",
              "    <path d=\"M18.56 5.44l.94 2.06.94-2.06 2.06-.94-2.06-.94-.94-2.06-.94 2.06-2.06.94zm-11 1L8.5 8.5l.94-2.06 2.06-.94-2.06-.94L8.5 2.5l-.94 2.06-2.06.94zm10 10l.94 2.06.94-2.06 2.06-.94-2.06-.94-.94-2.06-.94 2.06-2.06.94z\"/><path d=\"M17.41 7.96l-1.37-1.37c-.4-.4-.92-.59-1.43-.59-.52 0-1.04.2-1.43.59L10.3 9.45l-7.72 7.72c-.78.78-.78 2.05 0 2.83L4 21.41c.39.39.9.59 1.41.59.51 0 1.02-.2 1.41-.59l7.78-7.78 2.81-2.81c.8-.78.8-2.07 0-2.86zM5.41 20L4 18.59l7.72-7.72 1.47 1.35L5.41 20z\"/>\n",
              "  </svg>\n",
              "      </button>\n",
              "      \n",
              "  <style>\n",
              "    .colab-df-container {\n",
              "      display:flex;\n",
              "      flex-wrap:wrap;\n",
              "      gap: 12px;\n",
              "    }\n",
              "\n",
              "    .colab-df-convert {\n",
              "      background-color: #E8F0FE;\n",
              "      border: none;\n",
              "      border-radius: 50%;\n",
              "      cursor: pointer;\n",
              "      display: none;\n",
              "      fill: #1967D2;\n",
              "      height: 32px;\n",
              "      padding: 0 0 0 0;\n",
              "      width: 32px;\n",
              "    }\n",
              "\n",
              "    .colab-df-convert:hover {\n",
              "      background-color: #E2EBFA;\n",
              "      box-shadow: 0px 1px 2px rgba(60, 64, 67, 0.3), 0px 1px 3px 1px rgba(60, 64, 67, 0.15);\n",
              "      fill: #174EA6;\n",
              "    }\n",
              "\n",
              "    [theme=dark] .colab-df-convert {\n",
              "      background-color: #3B4455;\n",
              "      fill: #D2E3FC;\n",
              "    }\n",
              "\n",
              "    [theme=dark] .colab-df-convert:hover {\n",
              "      background-color: #434B5C;\n",
              "      box-shadow: 0px 1px 3px 1px rgba(0, 0, 0, 0.15);\n",
              "      filter: drop-shadow(0px 1px 2px rgba(0, 0, 0, 0.3));\n",
              "      fill: #FFFFFF;\n",
              "    }\n",
              "  </style>\n",
              "\n",
              "      <script>\n",
              "        const buttonEl =\n",
              "          document.querySelector('#df-8894541b-b351-46c8-b281-571cb19346a9 button.colab-df-convert');\n",
              "        buttonEl.style.display =\n",
              "          google.colab.kernel.accessAllowed ? 'block' : 'none';\n",
              "\n",
              "        async function convertToInteractive(key) {\n",
              "          const element = document.querySelector('#df-8894541b-b351-46c8-b281-571cb19346a9');\n",
              "          const dataTable =\n",
              "            await google.colab.kernel.invokeFunction('convertToInteractive',\n",
              "                                                     [key], {});\n",
              "          if (!dataTable) return;\n",
              "\n",
              "          const docLinkHtml = 'Like what you see? Visit the ' +\n",
              "            '<a target=\"_blank\" href=https://colab.research.google.com/notebooks/data_table.ipynb>data table notebook</a>'\n",
              "            + ' to learn more about interactive tables.';\n",
              "          element.innerHTML = '';\n",
              "          dataTable['output_type'] = 'display_data';\n",
              "          await google.colab.output.renderOutput(dataTable, element);\n",
              "          const docLink = document.createElement('div');\n",
              "          docLink.innerHTML = docLinkHtml;\n",
              "          element.appendChild(docLink);\n",
              "        }\n",
              "      </script>\n",
              "    </div>\n",
              "  </div>\n",
              "  "
            ]
          },
          "metadata": {},
          "execution_count": 25
        }
      ]
    },
    {
      "cell_type": "markdown",
      "source": [
        "## 3.7 JOIN Operator -- *You Provide It* **(Submission 3)**"
      ],
      "metadata": {
        "id": "HExXPpG7CYMQ"
      }
    },
    {
      "cell_type": "markdown",
      "source": [
        "### **Actions**\n",
        "- Implement the JOIN operator."
      ],
      "metadata": {
        "id": "CTJH8XZdCdPT"
      }
    },
    {
      "cell_type": "markdown",
      "source": [
        "**join (relation_one, relation_two, condition)**\n",
        "- Performs Theta JOIN on two relations\n",
        "- Parameters:\n",
        "  - relation_one: Table Object, the R1 relation in the theta join\n",
        "  - relation_two: Table Object, the R2 relation in the theta join\n",
        "  - condition: str, the condition for theta join\n",
        "- Returns:\n",
        "  - Table Object, the resulted relation after R1 $\\bowtie_\\theta$ R2\n",
        "- **IMPORTANT** Join uses caresian function. Cartesian adds \"_x\" and \"_y\" to relation attribute names. Specify the colum name accordingly in join condition.\n",
        "- Attributes mentioned in the join condition must exist in either relation. **Otherwise**, print error message \"*Condition Syntax Error*\" and return *None*.\n",
        "- **DO NOT** use pandas methods to construct operator function. You can use:\n",
        "  - python's list/dictionary manipulation\n",
        "  - the utility functions provided above\n",
        "  - other relational operators implemented in this notebook\n",
        "- Columns in result/output can be displayed in any order.\n",
        "- We don't have any requirement on the Table name.\n",
        "- You don't need to remove the duplicates."
      ],
      "metadata": {
        "id": "W4qV3dGDTYH9"
      }
    },
    {
      "cell_type": "code",
      "source": [
        "def join (relation_one: Table, relation_two: Table, join_condition: str) -> Table:\n",
        "    \"\"\"\n",
        "    Performs Theta JOIN on two relations\n",
        "        :param relation_one: Table object, the R1 relation in the theta join\n",
        "        :param relation_two: Table object, the R2 relation in the theta join\n",
        "        :param condition: str, the condition for theta join\n",
        "        :return: Table object, the resulted relation after R1 theta join R2\n",
        "        Hint: Use cartesian function provided\n",
        "    \"\"\"\n",
        "\n",
        "    join_relation = Table(\"JoinTable\")\n",
        "\n",
        "    # Enter your code below\n",
        "\n",
        "    return join_relation"
      ],
      "metadata": {
        "id": "-vSo6whSCoE_"
      },
      "execution_count": null,
      "outputs": []
    },
    {
      "cell_type": "code",
      "source": [
        "R = join(beers, sells, \"( beer_x = beer_y ) AND ( price_y > 3.0 ) AND ( bar_y = 'SoberBar' )\")\n",
        "view_table(R)"
      ],
      "metadata": {
        "id": "SI4bIzwZXkHE"
      },
      "execution_count": null,
      "outputs": []
    },
    {
      "cell_type": "markdown",
      "source": [
        "## 3.8 RENAME Operator -- *Provided to You*"
      ],
      "metadata": {
        "id": "6c6uySFyK4rx"
      }
    },
    {
      "cell_type": "markdown",
      "source": [
        "### **Actions**\n",
        "- Run the code below to define the RENAME operator."
      ],
      "metadata": {
        "id": "_jgJAPJbLeD5"
      }
    },
    {
      "cell_type": "markdown",
      "source": [
        "**rename (relation, attr_name, new_attr_name)**\n",
        "- Performs Rename on the given relation\n",
        "- Parameters:\n",
        "  - relation: Table Object, the relation to be manipulated\n",
        "  - attr_name: str, the original attribute name\n",
        "  - new_attr_name: str, the new attribute name\n",
        "- Returns:\n",
        "  - Table Object, the relation after the attribute is renamed."
      ],
      "metadata": {
        "id": "CE0TC7x7LBZY"
      }
    },
    {
      "cell_type": "code",
      "source": [
        "import copy\n",
        "\n",
        "def rename (relation: Table, attr_name: str, new_attr_name: str ) -> Table:\n",
        "      \"\"\"\n",
        "      Rename Operator\n",
        "        :param relation: Table Object, the relation to be manipulated\n",
        "        :param attr_name: str, the original attribute name\n",
        "        :param new_attr_name: str, the new attribute name\n",
        "        :return: Table Object, the relation after the attribute is renamed\n",
        "      \"\"\"\n",
        "      renamed_table = Table(\"RenamedTable\")\n",
        "      records = relation.getTuples()\n",
        "      new_records = copy.deepcopy(records)\n",
        "\n",
        "      for record in new_records:\n",
        "          if attr_name in record:\n",
        "            record[new_attr_name] = record[attr_name]\n",
        "            del record[attr_name]\n",
        "          else:\n",
        "              print(\"Attribute not present\")\n",
        "              return None\n",
        "\n",
        "      renamed_table.data = new_records\n",
        "\n",
        "      return renamed_table"
      ],
      "metadata": {
        "id": "UTjezf43H4TS"
      },
      "execution_count": null,
      "outputs": []
    },
    {
      "cell_type": "code",
      "source": [
        "view_table(rename(bars, \"addr\",\"new_addr\"))"
      ],
      "metadata": {
        "id": "xIiW2VoSH6hz",
        "colab": {
          "base_uri": "https://localhost:8080/",
          "height": 143
        },
        "outputId": "4915c5c7-e6b7-4f12-e174-88448cda346c"
      },
      "execution_count": null,
      "outputs": [
        {
          "output_type": "execute_result",
          "data": {
            "text/plain": [
              "        name  owner  new_addr\n",
              "0   SoberBar    Jim  PurpleSt\n",
              "1   GreenBar  Sally   GreenSt\n",
              "2  PurpleBar   Paul  PurpleSt"
            ],
            "text/html": [
              "\n",
              "  <div id=\"df-c69f73aa-09d6-4e0c-8646-58e18c20d76a\">\n",
              "    <div class=\"colab-df-container\">\n",
              "      <div>\n",
              "<style scoped>\n",
              "    .dataframe tbody tr th:only-of-type {\n",
              "        vertical-align: middle;\n",
              "    }\n",
              "\n",
              "    .dataframe tbody tr th {\n",
              "        vertical-align: top;\n",
              "    }\n",
              "\n",
              "    .dataframe thead th {\n",
              "        text-align: right;\n",
              "    }\n",
              "</style>\n",
              "<table border=\"1\" class=\"dataframe\">\n",
              "  <thead>\n",
              "    <tr style=\"text-align: right;\">\n",
              "      <th></th>\n",
              "      <th>name</th>\n",
              "      <th>owner</th>\n",
              "      <th>new_addr</th>\n",
              "    </tr>\n",
              "  </thead>\n",
              "  <tbody>\n",
              "    <tr>\n",
              "      <th>0</th>\n",
              "      <td>SoberBar</td>\n",
              "      <td>Jim</td>\n",
              "      <td>PurpleSt</td>\n",
              "    </tr>\n",
              "    <tr>\n",
              "      <th>1</th>\n",
              "      <td>GreenBar</td>\n",
              "      <td>Sally</td>\n",
              "      <td>GreenSt</td>\n",
              "    </tr>\n",
              "    <tr>\n",
              "      <th>2</th>\n",
              "      <td>PurpleBar</td>\n",
              "      <td>Paul</td>\n",
              "      <td>PurpleSt</td>\n",
              "    </tr>\n",
              "  </tbody>\n",
              "</table>\n",
              "</div>\n",
              "      <button class=\"colab-df-convert\" onclick=\"convertToInteractive('df-c69f73aa-09d6-4e0c-8646-58e18c20d76a')\"\n",
              "              title=\"Convert this dataframe to an interactive table.\"\n",
              "              style=\"display:none;\">\n",
              "        \n",
              "  <svg xmlns=\"http://www.w3.org/2000/svg\" height=\"24px\"viewBox=\"0 0 24 24\"\n",
              "       width=\"24px\">\n",
              "    <path d=\"M0 0h24v24H0V0z\" fill=\"none\"/>\n",
              "    <path d=\"M18.56 5.44l.94 2.06.94-2.06 2.06-.94-2.06-.94-.94-2.06-.94 2.06-2.06.94zm-11 1L8.5 8.5l.94-2.06 2.06-.94-2.06-.94L8.5 2.5l-.94 2.06-2.06.94zm10 10l.94 2.06.94-2.06 2.06-.94-2.06-.94-.94-2.06-.94 2.06-2.06.94z\"/><path d=\"M17.41 7.96l-1.37-1.37c-.4-.4-.92-.59-1.43-.59-.52 0-1.04.2-1.43.59L10.3 9.45l-7.72 7.72c-.78.78-.78 2.05 0 2.83L4 21.41c.39.39.9.59 1.41.59.51 0 1.02-.2 1.41-.59l7.78-7.78 2.81-2.81c.8-.78.8-2.07 0-2.86zM5.41 20L4 18.59l7.72-7.72 1.47 1.35L5.41 20z\"/>\n",
              "  </svg>\n",
              "      </button>\n",
              "      \n",
              "  <style>\n",
              "    .colab-df-container {\n",
              "      display:flex;\n",
              "      flex-wrap:wrap;\n",
              "      gap: 12px;\n",
              "    }\n",
              "\n",
              "    .colab-df-convert {\n",
              "      background-color: #E8F0FE;\n",
              "      border: none;\n",
              "      border-radius: 50%;\n",
              "      cursor: pointer;\n",
              "      display: none;\n",
              "      fill: #1967D2;\n",
              "      height: 32px;\n",
              "      padding: 0 0 0 0;\n",
              "      width: 32px;\n",
              "    }\n",
              "\n",
              "    .colab-df-convert:hover {\n",
              "      background-color: #E2EBFA;\n",
              "      box-shadow: 0px 1px 2px rgba(60, 64, 67, 0.3), 0px 1px 3px 1px rgba(60, 64, 67, 0.15);\n",
              "      fill: #174EA6;\n",
              "    }\n",
              "\n",
              "    [theme=dark] .colab-df-convert {\n",
              "      background-color: #3B4455;\n",
              "      fill: #D2E3FC;\n",
              "    }\n",
              "\n",
              "    [theme=dark] .colab-df-convert:hover {\n",
              "      background-color: #434B5C;\n",
              "      box-shadow: 0px 1px 3px 1px rgba(0, 0, 0, 0.15);\n",
              "      filter: drop-shadow(0px 1px 2px rgba(0, 0, 0, 0.3));\n",
              "      fill: #FFFFFF;\n",
              "    }\n",
              "  </style>\n",
              "\n",
              "      <script>\n",
              "        const buttonEl =\n",
              "          document.querySelector('#df-c69f73aa-09d6-4e0c-8646-58e18c20d76a button.colab-df-convert');\n",
              "        buttonEl.style.display =\n",
              "          google.colab.kernel.accessAllowed ? 'block' : 'none';\n",
              "\n",
              "        async function convertToInteractive(key) {\n",
              "          const element = document.querySelector('#df-c69f73aa-09d6-4e0c-8646-58e18c20d76a');\n",
              "          const dataTable =\n",
              "            await google.colab.kernel.invokeFunction('convertToInteractive',\n",
              "                                                     [key], {});\n",
              "          if (!dataTable) return;\n",
              "\n",
              "          const docLinkHtml = 'Like what you see? Visit the ' +\n",
              "            '<a target=\"_blank\" href=https://colab.research.google.com/notebooks/data_table.ipynb>data table notebook</a>'\n",
              "            + ' to learn more about interactive tables.';\n",
              "          element.innerHTML = '';\n",
              "          dataTable['output_type'] = 'display_data';\n",
              "          await google.colab.output.renderOutput(dataTable, element);\n",
              "          const docLink = document.createElement('div');\n",
              "          docLink.innerHTML = docLinkHtml;\n",
              "          element.appendChild(docLink);\n",
              "        }\n",
              "      </script>\n",
              "    </div>\n",
              "  </div>\n",
              "  "
            ]
          },
          "metadata": {},
          "execution_count": 27
        }
      ]
    },
    {
      "cell_type": "markdown",
      "source": [
        "# 4. Queries: Relational Expressions"
      ],
      "metadata": {
        "id": "J_N_teKc7fzT"
      }
    },
    {
      "cell_type": "markdown",
      "source": [
        "### **Actions**\n",
        "- Run Query 1 to see how to view a table or the result of a query.\n",
        "- Run Query 2 to see how our operators work together to answer a query.\n",
        "- Write your code solutions for Query 3 and Query 4. **You will write two variants to answer each query**-- to experience how different relational algebra expressions can be equivalent. Here, two variants are considered **_different_** if they use different operators or have different orders of operations."
      ],
      "metadata": {
        "id": "uCQnL75h-J3I"
      }
    },
    {
      "cell_type": "markdown",
      "source": [
        "## 4.1 **Query 1.** Show a table or query results -- *Provided to You*"
      ],
      "metadata": {
        "id": "aDnaPRzIYc21"
      }
    },
    {
      "cell_type": "code",
      "execution_count": null,
      "metadata": {
        "id": "5ouXAhf79Eyp",
        "colab": {
          "base_uri": "https://localhost:8080/",
          "height": 174
        },
        "outputId": "6d4d08b9-4269-4ac1-bf88-8d99c37ca27e"
      },
      "outputs": [
        {
          "output_type": "execute_result",
          "data": {
            "text/plain": [
              "       beer      brewer  alcohol\n",
              "0  SamAdams  BostonBeer    0.049\n",
              "1       Bud     ABInBev    0.050\n",
              "2   BudLite     ABInBev    0.042\n",
              "3     Coors       Coors    0.050"
            ],
            "text/html": [
              "\n",
              "  <div id=\"df-316c95c9-93cc-4285-8d26-648d19d316f7\">\n",
              "    <div class=\"colab-df-container\">\n",
              "      <div>\n",
              "<style scoped>\n",
              "    .dataframe tbody tr th:only-of-type {\n",
              "        vertical-align: middle;\n",
              "    }\n",
              "\n",
              "    .dataframe tbody tr th {\n",
              "        vertical-align: top;\n",
              "    }\n",
              "\n",
              "    .dataframe thead th {\n",
              "        text-align: right;\n",
              "    }\n",
              "</style>\n",
              "<table border=\"1\" class=\"dataframe\">\n",
              "  <thead>\n",
              "    <tr style=\"text-align: right;\">\n",
              "      <th></th>\n",
              "      <th>beer</th>\n",
              "      <th>brewer</th>\n",
              "      <th>alcohol</th>\n",
              "    </tr>\n",
              "  </thead>\n",
              "  <tbody>\n",
              "    <tr>\n",
              "      <th>0</th>\n",
              "      <td>SamAdams</td>\n",
              "      <td>BostonBeer</td>\n",
              "      <td>0.049</td>\n",
              "    </tr>\n",
              "    <tr>\n",
              "      <th>1</th>\n",
              "      <td>Bud</td>\n",
              "      <td>ABInBev</td>\n",
              "      <td>0.050</td>\n",
              "    </tr>\n",
              "    <tr>\n",
              "      <th>2</th>\n",
              "      <td>BudLite</td>\n",
              "      <td>ABInBev</td>\n",
              "      <td>0.042</td>\n",
              "    </tr>\n",
              "    <tr>\n",
              "      <th>3</th>\n",
              "      <td>Coors</td>\n",
              "      <td>Coors</td>\n",
              "      <td>0.050</td>\n",
              "    </tr>\n",
              "  </tbody>\n",
              "</table>\n",
              "</div>\n",
              "      <button class=\"colab-df-convert\" onclick=\"convertToInteractive('df-316c95c9-93cc-4285-8d26-648d19d316f7')\"\n",
              "              title=\"Convert this dataframe to an interactive table.\"\n",
              "              style=\"display:none;\">\n",
              "        \n",
              "  <svg xmlns=\"http://www.w3.org/2000/svg\" height=\"24px\"viewBox=\"0 0 24 24\"\n",
              "       width=\"24px\">\n",
              "    <path d=\"M0 0h24v24H0V0z\" fill=\"none\"/>\n",
              "    <path d=\"M18.56 5.44l.94 2.06.94-2.06 2.06-.94-2.06-.94-.94-2.06-.94 2.06-2.06.94zm-11 1L8.5 8.5l.94-2.06 2.06-.94-2.06-.94L8.5 2.5l-.94 2.06-2.06.94zm10 10l.94 2.06.94-2.06 2.06-.94-2.06-.94-.94-2.06-.94 2.06-2.06.94z\"/><path d=\"M17.41 7.96l-1.37-1.37c-.4-.4-.92-.59-1.43-.59-.52 0-1.04.2-1.43.59L10.3 9.45l-7.72 7.72c-.78.78-.78 2.05 0 2.83L4 21.41c.39.39.9.59 1.41.59.51 0 1.02-.2 1.41-.59l7.78-7.78 2.81-2.81c.8-.78.8-2.07 0-2.86zM5.41 20L4 18.59l7.72-7.72 1.47 1.35L5.41 20z\"/>\n",
              "  </svg>\n",
              "      </button>\n",
              "      \n",
              "  <style>\n",
              "    .colab-df-container {\n",
              "      display:flex;\n",
              "      flex-wrap:wrap;\n",
              "      gap: 12px;\n",
              "    }\n",
              "\n",
              "    .colab-df-convert {\n",
              "      background-color: #E8F0FE;\n",
              "      border: none;\n",
              "      border-radius: 50%;\n",
              "      cursor: pointer;\n",
              "      display: none;\n",
              "      fill: #1967D2;\n",
              "      height: 32px;\n",
              "      padding: 0 0 0 0;\n",
              "      width: 32px;\n",
              "    }\n",
              "\n",
              "    .colab-df-convert:hover {\n",
              "      background-color: #E2EBFA;\n",
              "      box-shadow: 0px 1px 2px rgba(60, 64, 67, 0.3), 0px 1px 3px 1px rgba(60, 64, 67, 0.15);\n",
              "      fill: #174EA6;\n",
              "    }\n",
              "\n",
              "    [theme=dark] .colab-df-convert {\n",
              "      background-color: #3B4455;\n",
              "      fill: #D2E3FC;\n",
              "    }\n",
              "\n",
              "    [theme=dark] .colab-df-convert:hover {\n",
              "      background-color: #434B5C;\n",
              "      box-shadow: 0px 1px 3px 1px rgba(0, 0, 0, 0.15);\n",
              "      filter: drop-shadow(0px 1px 2px rgba(0, 0, 0, 0.3));\n",
              "      fill: #FFFFFF;\n",
              "    }\n",
              "  </style>\n",
              "\n",
              "      <script>\n",
              "        const buttonEl =\n",
              "          document.querySelector('#df-316c95c9-93cc-4285-8d26-648d19d316f7 button.colab-df-convert');\n",
              "        buttonEl.style.display =\n",
              "          google.colab.kernel.accessAllowed ? 'block' : 'none';\n",
              "\n",
              "        async function convertToInteractive(key) {\n",
              "          const element = document.querySelector('#df-316c95c9-93cc-4285-8d26-648d19d316f7');\n",
              "          const dataTable =\n",
              "            await google.colab.kernel.invokeFunction('convertToInteractive',\n",
              "                                                     [key], {});\n",
              "          if (!dataTable) return;\n",
              "\n",
              "          const docLinkHtml = 'Like what you see? Visit the ' +\n",
              "            '<a target=\"_blank\" href=https://colab.research.google.com/notebooks/data_table.ipynb>data table notebook</a>'\n",
              "            + ' to learn more about interactive tables.';\n",
              "          element.innerHTML = '';\n",
              "          dataTable['output_type'] = 'display_data';\n",
              "          await google.colab.output.renderOutput(dataTable, element);\n",
              "          const docLink = document.createElement('div');\n",
              "          docLink.innerHTML = docLinkHtml;\n",
              "          element.appendChild(docLink);\n",
              "        }\n",
              "      </script>\n",
              "    </div>\n",
              "  </div>\n",
              "  "
            ]
          },
          "metadata": {},
          "execution_count": 28
        }
      ],
      "source": [
        "# Show the beers table\n",
        "view_table(beers)"
      ]
    },
    {
      "cell_type": "code",
      "source": [
        "# Show the drinkers table\n",
        "view_table(drinkers)"
      ],
      "metadata": {
        "id": "8A5wd7PKPvp4",
        "colab": {
          "base_uri": "https://localhost:8080/",
          "height": 143
        },
        "outputId": "722f8ea9-439a-4f91-a517-31cf1ffe755e"
      },
      "execution_count": null,
      "outputs": [
        {
          "output_type": "execute_result",
          "data": {
            "text/plain": [
              "    name     addr    hobby  frequent\n",
              "0   Alex  GreenSt  Reading  SoberBar\n",
              "1  Betty   KingSt  Singing  GreenBar\n",
              "2  Cindy  GreenSt   Hiking  GreenBar"
            ],
            "text/html": [
              "\n",
              "  <div id=\"df-07e70b28-6b8a-4555-bc62-ee12c385f4ae\">\n",
              "    <div class=\"colab-df-container\">\n",
              "      <div>\n",
              "<style scoped>\n",
              "    .dataframe tbody tr th:only-of-type {\n",
              "        vertical-align: middle;\n",
              "    }\n",
              "\n",
              "    .dataframe tbody tr th {\n",
              "        vertical-align: top;\n",
              "    }\n",
              "\n",
              "    .dataframe thead th {\n",
              "        text-align: right;\n",
              "    }\n",
              "</style>\n",
              "<table border=\"1\" class=\"dataframe\">\n",
              "  <thead>\n",
              "    <tr style=\"text-align: right;\">\n",
              "      <th></th>\n",
              "      <th>name</th>\n",
              "      <th>addr</th>\n",
              "      <th>hobby</th>\n",
              "      <th>frequent</th>\n",
              "    </tr>\n",
              "  </thead>\n",
              "  <tbody>\n",
              "    <tr>\n",
              "      <th>0</th>\n",
              "      <td>Alex</td>\n",
              "      <td>GreenSt</td>\n",
              "      <td>Reading</td>\n",
              "      <td>SoberBar</td>\n",
              "    </tr>\n",
              "    <tr>\n",
              "      <th>1</th>\n",
              "      <td>Betty</td>\n",
              "      <td>KingSt</td>\n",
              "      <td>Singing</td>\n",
              "      <td>GreenBar</td>\n",
              "    </tr>\n",
              "    <tr>\n",
              "      <th>2</th>\n",
              "      <td>Cindy</td>\n",
              "      <td>GreenSt</td>\n",
              "      <td>Hiking</td>\n",
              "      <td>GreenBar</td>\n",
              "    </tr>\n",
              "  </tbody>\n",
              "</table>\n",
              "</div>\n",
              "      <button class=\"colab-df-convert\" onclick=\"convertToInteractive('df-07e70b28-6b8a-4555-bc62-ee12c385f4ae')\"\n",
              "              title=\"Convert this dataframe to an interactive table.\"\n",
              "              style=\"display:none;\">\n",
              "        \n",
              "  <svg xmlns=\"http://www.w3.org/2000/svg\" height=\"24px\"viewBox=\"0 0 24 24\"\n",
              "       width=\"24px\">\n",
              "    <path d=\"M0 0h24v24H0V0z\" fill=\"none\"/>\n",
              "    <path d=\"M18.56 5.44l.94 2.06.94-2.06 2.06-.94-2.06-.94-.94-2.06-.94 2.06-2.06.94zm-11 1L8.5 8.5l.94-2.06 2.06-.94-2.06-.94L8.5 2.5l-.94 2.06-2.06.94zm10 10l.94 2.06.94-2.06 2.06-.94-2.06-.94-.94-2.06-.94 2.06-2.06.94z\"/><path d=\"M17.41 7.96l-1.37-1.37c-.4-.4-.92-.59-1.43-.59-.52 0-1.04.2-1.43.59L10.3 9.45l-7.72 7.72c-.78.78-.78 2.05 0 2.83L4 21.41c.39.39.9.59 1.41.59.51 0 1.02-.2 1.41-.59l7.78-7.78 2.81-2.81c.8-.78.8-2.07 0-2.86zM5.41 20L4 18.59l7.72-7.72 1.47 1.35L5.41 20z\"/>\n",
              "  </svg>\n",
              "      </button>\n",
              "      \n",
              "  <style>\n",
              "    .colab-df-container {\n",
              "      display:flex;\n",
              "      flex-wrap:wrap;\n",
              "      gap: 12px;\n",
              "    }\n",
              "\n",
              "    .colab-df-convert {\n",
              "      background-color: #E8F0FE;\n",
              "      border: none;\n",
              "      border-radius: 50%;\n",
              "      cursor: pointer;\n",
              "      display: none;\n",
              "      fill: #1967D2;\n",
              "      height: 32px;\n",
              "      padding: 0 0 0 0;\n",
              "      width: 32px;\n",
              "    }\n",
              "\n",
              "    .colab-df-convert:hover {\n",
              "      background-color: #E2EBFA;\n",
              "      box-shadow: 0px 1px 2px rgba(60, 64, 67, 0.3), 0px 1px 3px 1px rgba(60, 64, 67, 0.15);\n",
              "      fill: #174EA6;\n",
              "    }\n",
              "\n",
              "    [theme=dark] .colab-df-convert {\n",
              "      background-color: #3B4455;\n",
              "      fill: #D2E3FC;\n",
              "    }\n",
              "\n",
              "    [theme=dark] .colab-df-convert:hover {\n",
              "      background-color: #434B5C;\n",
              "      box-shadow: 0px 1px 3px 1px rgba(0, 0, 0, 0.15);\n",
              "      filter: drop-shadow(0px 1px 2px rgba(0, 0, 0, 0.3));\n",
              "      fill: #FFFFFF;\n",
              "    }\n",
              "  </style>\n",
              "\n",
              "      <script>\n",
              "        const buttonEl =\n",
              "          document.querySelector('#df-07e70b28-6b8a-4555-bc62-ee12c385f4ae button.colab-df-convert');\n",
              "        buttonEl.style.display =\n",
              "          google.colab.kernel.accessAllowed ? 'block' : 'none';\n",
              "\n",
              "        async function convertToInteractive(key) {\n",
              "          const element = document.querySelector('#df-07e70b28-6b8a-4555-bc62-ee12c385f4ae');\n",
              "          const dataTable =\n",
              "            await google.colab.kernel.invokeFunction('convertToInteractive',\n",
              "                                                     [key], {});\n",
              "          if (!dataTable) return;\n",
              "\n",
              "          const docLinkHtml = 'Like what you see? Visit the ' +\n",
              "            '<a target=\"_blank\" href=https://colab.research.google.com/notebooks/data_table.ipynb>data table notebook</a>'\n",
              "            + ' to learn more about interactive tables.';\n",
              "          element.innerHTML = '';\n",
              "          dataTable['output_type'] = 'display_data';\n",
              "          await google.colab.output.renderOutput(dataTable, element);\n",
              "          const docLink = document.createElement('div');\n",
              "          docLink.innerHTML = docLinkHtml;\n",
              "          element.appendChild(docLink);\n",
              "        }\n",
              "      </script>\n",
              "    </div>\n",
              "  </div>\n",
              "  "
            ]
          },
          "metadata": {},
          "execution_count": 29
        }
      ]
    },
    {
      "cell_type": "code",
      "source": [
        "# Show the bars table\n",
        "view_table(bars)"
      ],
      "metadata": {
        "id": "EZUSqt4NPfUl",
        "colab": {
          "base_uri": "https://localhost:8080/",
          "height": 143
        },
        "outputId": "c2336c78-5e7e-497a-954a-309678b6bd29"
      },
      "execution_count": null,
      "outputs": [
        {
          "output_type": "execute_result",
          "data": {
            "text/plain": [
              "        name      addr  owner\n",
              "0   SoberBar  PurpleSt    Jim\n",
              "1   GreenBar   GreenSt  Sally\n",
              "2  PurpleBar  PurpleSt   Paul"
            ],
            "text/html": [
              "\n",
              "  <div id=\"df-f9e59550-9d6a-427e-b96c-e379907fb322\">\n",
              "    <div class=\"colab-df-container\">\n",
              "      <div>\n",
              "<style scoped>\n",
              "    .dataframe tbody tr th:only-of-type {\n",
              "        vertical-align: middle;\n",
              "    }\n",
              "\n",
              "    .dataframe tbody tr th {\n",
              "        vertical-align: top;\n",
              "    }\n",
              "\n",
              "    .dataframe thead th {\n",
              "        text-align: right;\n",
              "    }\n",
              "</style>\n",
              "<table border=\"1\" class=\"dataframe\">\n",
              "  <thead>\n",
              "    <tr style=\"text-align: right;\">\n",
              "      <th></th>\n",
              "      <th>name</th>\n",
              "      <th>addr</th>\n",
              "      <th>owner</th>\n",
              "    </tr>\n",
              "  </thead>\n",
              "  <tbody>\n",
              "    <tr>\n",
              "      <th>0</th>\n",
              "      <td>SoberBar</td>\n",
              "      <td>PurpleSt</td>\n",
              "      <td>Jim</td>\n",
              "    </tr>\n",
              "    <tr>\n",
              "      <th>1</th>\n",
              "      <td>GreenBar</td>\n",
              "      <td>GreenSt</td>\n",
              "      <td>Sally</td>\n",
              "    </tr>\n",
              "    <tr>\n",
              "      <th>2</th>\n",
              "      <td>PurpleBar</td>\n",
              "      <td>PurpleSt</td>\n",
              "      <td>Paul</td>\n",
              "    </tr>\n",
              "  </tbody>\n",
              "</table>\n",
              "</div>\n",
              "      <button class=\"colab-df-convert\" onclick=\"convertToInteractive('df-f9e59550-9d6a-427e-b96c-e379907fb322')\"\n",
              "              title=\"Convert this dataframe to an interactive table.\"\n",
              "              style=\"display:none;\">\n",
              "        \n",
              "  <svg xmlns=\"http://www.w3.org/2000/svg\" height=\"24px\"viewBox=\"0 0 24 24\"\n",
              "       width=\"24px\">\n",
              "    <path d=\"M0 0h24v24H0V0z\" fill=\"none\"/>\n",
              "    <path d=\"M18.56 5.44l.94 2.06.94-2.06 2.06-.94-2.06-.94-.94-2.06-.94 2.06-2.06.94zm-11 1L8.5 8.5l.94-2.06 2.06-.94-2.06-.94L8.5 2.5l-.94 2.06-2.06.94zm10 10l.94 2.06.94-2.06 2.06-.94-2.06-.94-.94-2.06-.94 2.06-2.06.94z\"/><path d=\"M17.41 7.96l-1.37-1.37c-.4-.4-.92-.59-1.43-.59-.52 0-1.04.2-1.43.59L10.3 9.45l-7.72 7.72c-.78.78-.78 2.05 0 2.83L4 21.41c.39.39.9.59 1.41.59.51 0 1.02-.2 1.41-.59l7.78-7.78 2.81-2.81c.8-.78.8-2.07 0-2.86zM5.41 20L4 18.59l7.72-7.72 1.47 1.35L5.41 20z\"/>\n",
              "  </svg>\n",
              "      </button>\n",
              "      \n",
              "  <style>\n",
              "    .colab-df-container {\n",
              "      display:flex;\n",
              "      flex-wrap:wrap;\n",
              "      gap: 12px;\n",
              "    }\n",
              "\n",
              "    .colab-df-convert {\n",
              "      background-color: #E8F0FE;\n",
              "      border: none;\n",
              "      border-radius: 50%;\n",
              "      cursor: pointer;\n",
              "      display: none;\n",
              "      fill: #1967D2;\n",
              "      height: 32px;\n",
              "      padding: 0 0 0 0;\n",
              "      width: 32px;\n",
              "    }\n",
              "\n",
              "    .colab-df-convert:hover {\n",
              "      background-color: #E2EBFA;\n",
              "      box-shadow: 0px 1px 2px rgba(60, 64, 67, 0.3), 0px 1px 3px 1px rgba(60, 64, 67, 0.15);\n",
              "      fill: #174EA6;\n",
              "    }\n",
              "\n",
              "    [theme=dark] .colab-df-convert {\n",
              "      background-color: #3B4455;\n",
              "      fill: #D2E3FC;\n",
              "    }\n",
              "\n",
              "    [theme=dark] .colab-df-convert:hover {\n",
              "      background-color: #434B5C;\n",
              "      box-shadow: 0px 1px 3px 1px rgba(0, 0, 0, 0.15);\n",
              "      filter: drop-shadow(0px 1px 2px rgba(0, 0, 0, 0.3));\n",
              "      fill: #FFFFFF;\n",
              "    }\n",
              "  </style>\n",
              "\n",
              "      <script>\n",
              "        const buttonEl =\n",
              "          document.querySelector('#df-f9e59550-9d6a-427e-b96c-e379907fb322 button.colab-df-convert');\n",
              "        buttonEl.style.display =\n",
              "          google.colab.kernel.accessAllowed ? 'block' : 'none';\n",
              "\n",
              "        async function convertToInteractive(key) {\n",
              "          const element = document.querySelector('#df-f9e59550-9d6a-427e-b96c-e379907fb322');\n",
              "          const dataTable =\n",
              "            await google.colab.kernel.invokeFunction('convertToInteractive',\n",
              "                                                     [key], {});\n",
              "          if (!dataTable) return;\n",
              "\n",
              "          const docLinkHtml = 'Like what you see? Visit the ' +\n",
              "            '<a target=\"_blank\" href=https://colab.research.google.com/notebooks/data_table.ipynb>data table notebook</a>'\n",
              "            + ' to learn more about interactive tables.';\n",
              "          element.innerHTML = '';\n",
              "          dataTable['output_type'] = 'display_data';\n",
              "          await google.colab.output.renderOutput(dataTable, element);\n",
              "          const docLink = document.createElement('div');\n",
              "          docLink.innerHTML = docLinkHtml;\n",
              "          element.appendChild(docLink);\n",
              "        }\n",
              "      </script>\n",
              "    </div>\n",
              "  </div>\n",
              "  "
            ]
          },
          "metadata": {},
          "execution_count": 30
        }
      ]
    },
    {
      "cell_type": "code",
      "source": [
        "# Show the sells table\n",
        "view_table(sells)"
      ],
      "metadata": {
        "id": "rQGXcFCPPb2n",
        "colab": {
          "base_uri": "https://localhost:8080/",
          "height": 300
        },
        "outputId": "228ebf34-6a77-4620-9573-fb93a39fb31d"
      },
      "execution_count": null,
      "outputs": [
        {
          "output_type": "execute_result",
          "data": {
            "text/plain": [
              "         bar      beer  price  discount\n",
              "0   SoberBar       Bud    5.0      0.05\n",
              "1   SoberBar   BudLite    3.0      0.00\n",
              "2   SoberBar  SamAdams    6.0      0.10\n",
              "3   GreenBar       Bud    2.0      0.00\n",
              "4   GreenBar  SamAdams    4.5      0.20\n",
              "5   GreenBar     Coors    NaN       NaN\n",
              "6  PurpleBar       Bud    4.5      0.20\n",
              "7  PurpleBar  SamAdams    5.0      0.30"
            ],
            "text/html": [
              "\n",
              "  <div id=\"df-0baf053a-c08b-4cba-9847-ce4c298d0a84\">\n",
              "    <div class=\"colab-df-container\">\n",
              "      <div>\n",
              "<style scoped>\n",
              "    .dataframe tbody tr th:only-of-type {\n",
              "        vertical-align: middle;\n",
              "    }\n",
              "\n",
              "    .dataframe tbody tr th {\n",
              "        vertical-align: top;\n",
              "    }\n",
              "\n",
              "    .dataframe thead th {\n",
              "        text-align: right;\n",
              "    }\n",
              "</style>\n",
              "<table border=\"1\" class=\"dataframe\">\n",
              "  <thead>\n",
              "    <tr style=\"text-align: right;\">\n",
              "      <th></th>\n",
              "      <th>bar</th>\n",
              "      <th>beer</th>\n",
              "      <th>price</th>\n",
              "      <th>discount</th>\n",
              "    </tr>\n",
              "  </thead>\n",
              "  <tbody>\n",
              "    <tr>\n",
              "      <th>0</th>\n",
              "      <td>SoberBar</td>\n",
              "      <td>Bud</td>\n",
              "      <td>5.0</td>\n",
              "      <td>0.05</td>\n",
              "    </tr>\n",
              "    <tr>\n",
              "      <th>1</th>\n",
              "      <td>SoberBar</td>\n",
              "      <td>BudLite</td>\n",
              "      <td>3.0</td>\n",
              "      <td>0.00</td>\n",
              "    </tr>\n",
              "    <tr>\n",
              "      <th>2</th>\n",
              "      <td>SoberBar</td>\n",
              "      <td>SamAdams</td>\n",
              "      <td>6.0</td>\n",
              "      <td>0.10</td>\n",
              "    </tr>\n",
              "    <tr>\n",
              "      <th>3</th>\n",
              "      <td>GreenBar</td>\n",
              "      <td>Bud</td>\n",
              "      <td>2.0</td>\n",
              "      <td>0.00</td>\n",
              "    </tr>\n",
              "    <tr>\n",
              "      <th>4</th>\n",
              "      <td>GreenBar</td>\n",
              "      <td>SamAdams</td>\n",
              "      <td>4.5</td>\n",
              "      <td>0.20</td>\n",
              "    </tr>\n",
              "    <tr>\n",
              "      <th>5</th>\n",
              "      <td>GreenBar</td>\n",
              "      <td>Coors</td>\n",
              "      <td>NaN</td>\n",
              "      <td>NaN</td>\n",
              "    </tr>\n",
              "    <tr>\n",
              "      <th>6</th>\n",
              "      <td>PurpleBar</td>\n",
              "      <td>Bud</td>\n",
              "      <td>4.5</td>\n",
              "      <td>0.20</td>\n",
              "    </tr>\n",
              "    <tr>\n",
              "      <th>7</th>\n",
              "      <td>PurpleBar</td>\n",
              "      <td>SamAdams</td>\n",
              "      <td>5.0</td>\n",
              "      <td>0.30</td>\n",
              "    </tr>\n",
              "  </tbody>\n",
              "</table>\n",
              "</div>\n",
              "      <button class=\"colab-df-convert\" onclick=\"convertToInteractive('df-0baf053a-c08b-4cba-9847-ce4c298d0a84')\"\n",
              "              title=\"Convert this dataframe to an interactive table.\"\n",
              "              style=\"display:none;\">\n",
              "        \n",
              "  <svg xmlns=\"http://www.w3.org/2000/svg\" height=\"24px\"viewBox=\"0 0 24 24\"\n",
              "       width=\"24px\">\n",
              "    <path d=\"M0 0h24v24H0V0z\" fill=\"none\"/>\n",
              "    <path d=\"M18.56 5.44l.94 2.06.94-2.06 2.06-.94-2.06-.94-.94-2.06-.94 2.06-2.06.94zm-11 1L8.5 8.5l.94-2.06 2.06-.94-2.06-.94L8.5 2.5l-.94 2.06-2.06.94zm10 10l.94 2.06.94-2.06 2.06-.94-2.06-.94-.94-2.06-.94 2.06-2.06.94z\"/><path d=\"M17.41 7.96l-1.37-1.37c-.4-.4-.92-.59-1.43-.59-.52 0-1.04.2-1.43.59L10.3 9.45l-7.72 7.72c-.78.78-.78 2.05 0 2.83L4 21.41c.39.39.9.59 1.41.59.51 0 1.02-.2 1.41-.59l7.78-7.78 2.81-2.81c.8-.78.8-2.07 0-2.86zM5.41 20L4 18.59l7.72-7.72 1.47 1.35L5.41 20z\"/>\n",
              "  </svg>\n",
              "      </button>\n",
              "      \n",
              "  <style>\n",
              "    .colab-df-container {\n",
              "      display:flex;\n",
              "      flex-wrap:wrap;\n",
              "      gap: 12px;\n",
              "    }\n",
              "\n",
              "    .colab-df-convert {\n",
              "      background-color: #E8F0FE;\n",
              "      border: none;\n",
              "      border-radius: 50%;\n",
              "      cursor: pointer;\n",
              "      display: none;\n",
              "      fill: #1967D2;\n",
              "      height: 32px;\n",
              "      padding: 0 0 0 0;\n",
              "      width: 32px;\n",
              "    }\n",
              "\n",
              "    .colab-df-convert:hover {\n",
              "      background-color: #E2EBFA;\n",
              "      box-shadow: 0px 1px 2px rgba(60, 64, 67, 0.3), 0px 1px 3px 1px rgba(60, 64, 67, 0.15);\n",
              "      fill: #174EA6;\n",
              "    }\n",
              "\n",
              "    [theme=dark] .colab-df-convert {\n",
              "      background-color: #3B4455;\n",
              "      fill: #D2E3FC;\n",
              "    }\n",
              "\n",
              "    [theme=dark] .colab-df-convert:hover {\n",
              "      background-color: #434B5C;\n",
              "      box-shadow: 0px 1px 3px 1px rgba(0, 0, 0, 0.15);\n",
              "      filter: drop-shadow(0px 1px 2px rgba(0, 0, 0, 0.3));\n",
              "      fill: #FFFFFF;\n",
              "    }\n",
              "  </style>\n",
              "\n",
              "      <script>\n",
              "        const buttonEl =\n",
              "          document.querySelector('#df-0baf053a-c08b-4cba-9847-ce4c298d0a84 button.colab-df-convert');\n",
              "        buttonEl.style.display =\n",
              "          google.colab.kernel.accessAllowed ? 'block' : 'none';\n",
              "\n",
              "        async function convertToInteractive(key) {\n",
              "          const element = document.querySelector('#df-0baf053a-c08b-4cba-9847-ce4c298d0a84');\n",
              "          const dataTable =\n",
              "            await google.colab.kernel.invokeFunction('convertToInteractive',\n",
              "                                                     [key], {});\n",
              "          if (!dataTable) return;\n",
              "\n",
              "          const docLinkHtml = 'Like what you see? Visit the ' +\n",
              "            '<a target=\"_blank\" href=https://colab.research.google.com/notebooks/data_table.ipynb>data table notebook</a>'\n",
              "            + ' to learn more about interactive tables.';\n",
              "          element.innerHTML = '';\n",
              "          dataTable['output_type'] = 'display_data';\n",
              "          await google.colab.output.renderOutput(dataTable, element);\n",
              "          const docLink = document.createElement('div');\n",
              "          docLink.innerHTML = docLinkHtml;\n",
              "          element.appendChild(docLink);\n",
              "        }\n",
              "      </script>\n",
              "    </div>\n",
              "  </div>\n",
              "  "
            ]
          },
          "metadata": {},
          "execution_count": 31
        }
      ]
    },
    {
      "cell_type": "code",
      "source": [
        "# Show the result of a query\n",
        "view_table (\n",
        "    select ( sells, \"( price >= 5.0 )\")\n",
        ")"
      ],
      "metadata": {
        "id": "PWMQZas6_1xv",
        "colab": {
          "base_uri": "https://localhost:8080/",
          "height": 143
        },
        "outputId": "9e642858-d87e-49fb-e1a6-05356d629810"
      },
      "execution_count": null,
      "outputs": [
        {
          "output_type": "execute_result",
          "data": {
            "text/plain": [
              "         bar      beer  price  discount\n",
              "0   SoberBar       Bud    5.0      0.05\n",
              "1   SoberBar  SamAdams    6.0      0.10\n",
              "2  PurpleBar  SamAdams    5.0      0.30"
            ],
            "text/html": [
              "\n",
              "  <div id=\"df-125884bd-0880-4198-8bc0-69964831218f\">\n",
              "    <div class=\"colab-df-container\">\n",
              "      <div>\n",
              "<style scoped>\n",
              "    .dataframe tbody tr th:only-of-type {\n",
              "        vertical-align: middle;\n",
              "    }\n",
              "\n",
              "    .dataframe tbody tr th {\n",
              "        vertical-align: top;\n",
              "    }\n",
              "\n",
              "    .dataframe thead th {\n",
              "        text-align: right;\n",
              "    }\n",
              "</style>\n",
              "<table border=\"1\" class=\"dataframe\">\n",
              "  <thead>\n",
              "    <tr style=\"text-align: right;\">\n",
              "      <th></th>\n",
              "      <th>bar</th>\n",
              "      <th>beer</th>\n",
              "      <th>price</th>\n",
              "      <th>discount</th>\n",
              "    </tr>\n",
              "  </thead>\n",
              "  <tbody>\n",
              "    <tr>\n",
              "      <th>0</th>\n",
              "      <td>SoberBar</td>\n",
              "      <td>Bud</td>\n",
              "      <td>5.0</td>\n",
              "      <td>0.05</td>\n",
              "    </tr>\n",
              "    <tr>\n",
              "      <th>1</th>\n",
              "      <td>SoberBar</td>\n",
              "      <td>SamAdams</td>\n",
              "      <td>6.0</td>\n",
              "      <td>0.10</td>\n",
              "    </tr>\n",
              "    <tr>\n",
              "      <th>2</th>\n",
              "      <td>PurpleBar</td>\n",
              "      <td>SamAdams</td>\n",
              "      <td>5.0</td>\n",
              "      <td>0.30</td>\n",
              "    </tr>\n",
              "  </tbody>\n",
              "</table>\n",
              "</div>\n",
              "      <button class=\"colab-df-convert\" onclick=\"convertToInteractive('df-125884bd-0880-4198-8bc0-69964831218f')\"\n",
              "              title=\"Convert this dataframe to an interactive table.\"\n",
              "              style=\"display:none;\">\n",
              "        \n",
              "  <svg xmlns=\"http://www.w3.org/2000/svg\" height=\"24px\"viewBox=\"0 0 24 24\"\n",
              "       width=\"24px\">\n",
              "    <path d=\"M0 0h24v24H0V0z\" fill=\"none\"/>\n",
              "    <path d=\"M18.56 5.44l.94 2.06.94-2.06 2.06-.94-2.06-.94-.94-2.06-.94 2.06-2.06.94zm-11 1L8.5 8.5l.94-2.06 2.06-.94-2.06-.94L8.5 2.5l-.94 2.06-2.06.94zm10 10l.94 2.06.94-2.06 2.06-.94-2.06-.94-.94-2.06-.94 2.06-2.06.94z\"/><path d=\"M17.41 7.96l-1.37-1.37c-.4-.4-.92-.59-1.43-.59-.52 0-1.04.2-1.43.59L10.3 9.45l-7.72 7.72c-.78.78-.78 2.05 0 2.83L4 21.41c.39.39.9.59 1.41.59.51 0 1.02-.2 1.41-.59l7.78-7.78 2.81-2.81c.8-.78.8-2.07 0-2.86zM5.41 20L4 18.59l7.72-7.72 1.47 1.35L5.41 20z\"/>\n",
              "  </svg>\n",
              "      </button>\n",
              "      \n",
              "  <style>\n",
              "    .colab-df-container {\n",
              "      display:flex;\n",
              "      flex-wrap:wrap;\n",
              "      gap: 12px;\n",
              "    }\n",
              "\n",
              "    .colab-df-convert {\n",
              "      background-color: #E8F0FE;\n",
              "      border: none;\n",
              "      border-radius: 50%;\n",
              "      cursor: pointer;\n",
              "      display: none;\n",
              "      fill: #1967D2;\n",
              "      height: 32px;\n",
              "      padding: 0 0 0 0;\n",
              "      width: 32px;\n",
              "    }\n",
              "\n",
              "    .colab-df-convert:hover {\n",
              "      background-color: #E2EBFA;\n",
              "      box-shadow: 0px 1px 2px rgba(60, 64, 67, 0.3), 0px 1px 3px 1px rgba(60, 64, 67, 0.15);\n",
              "      fill: #174EA6;\n",
              "    }\n",
              "\n",
              "    [theme=dark] .colab-df-convert {\n",
              "      background-color: #3B4455;\n",
              "      fill: #D2E3FC;\n",
              "    }\n",
              "\n",
              "    [theme=dark] .colab-df-convert:hover {\n",
              "      background-color: #434B5C;\n",
              "      box-shadow: 0px 1px 3px 1px rgba(0, 0, 0, 0.15);\n",
              "      filter: drop-shadow(0px 1px 2px rgba(0, 0, 0, 0.3));\n",
              "      fill: #FFFFFF;\n",
              "    }\n",
              "  </style>\n",
              "\n",
              "      <script>\n",
              "        const buttonEl =\n",
              "          document.querySelector('#df-125884bd-0880-4198-8bc0-69964831218f button.colab-df-convert');\n",
              "        buttonEl.style.display =\n",
              "          google.colab.kernel.accessAllowed ? 'block' : 'none';\n",
              "\n",
              "        async function convertToInteractive(key) {\n",
              "          const element = document.querySelector('#df-125884bd-0880-4198-8bc0-69964831218f');\n",
              "          const dataTable =\n",
              "            await google.colab.kernel.invokeFunction('convertToInteractive',\n",
              "                                                     [key], {});\n",
              "          if (!dataTable) return;\n",
              "\n",
              "          const docLinkHtml = 'Like what you see? Visit the ' +\n",
              "            '<a target=\"_blank\" href=https://colab.research.google.com/notebooks/data_table.ipynb>data table notebook</a>'\n",
              "            + ' to learn more about interactive tables.';\n",
              "          element.innerHTML = '';\n",
              "          dataTable['output_type'] = 'display_data';\n",
              "          await google.colab.output.renderOutput(dataTable, element);\n",
              "          const docLink = document.createElement('div');\n",
              "          docLink.innerHTML = docLinkHtml;\n",
              "          element.appendChild(docLink);\n",
              "        }\n",
              "      </script>\n",
              "    </div>\n",
              "  </div>\n",
              "  "
            ]
          },
          "metadata": {},
          "execution_count": 32
        }
      ]
    },
    {
      "cell_type": "markdown",
      "metadata": {
        "id": "fVtqzR6W9Eyp"
      },
      "source": [
        "## 4.2 **Query 2.** Beers made by \"ABInBev\" or with alcohol 0.05 or higher  -- *Provided to You*"
      ]
    },
    {
      "cell_type": "code",
      "execution_count": null,
      "metadata": {
        "id": "cwwfDoSm9Eyp",
        "colab": {
          "base_uri": "https://localhost:8080/",
          "height": 143
        },
        "outputId": "e477eb0b-ec7f-4d4e-9205-fdda05b928eb"
      },
      "outputs": [
        {
          "output_type": "execute_result",
          "data": {
            "text/plain": [
              "      beer   brewer  alcohol\n",
              "0      Bud  ABInBev    0.050\n",
              "1  BudLite  ABInBev    0.042\n",
              "2    Coors    Coors    0.050"
            ],
            "text/html": [
              "\n",
              "  <div id=\"df-3ea209af-cb07-41d2-b4d3-3dee48327d2b\">\n",
              "    <div class=\"colab-df-container\">\n",
              "      <div>\n",
              "<style scoped>\n",
              "    .dataframe tbody tr th:only-of-type {\n",
              "        vertical-align: middle;\n",
              "    }\n",
              "\n",
              "    .dataframe tbody tr th {\n",
              "        vertical-align: top;\n",
              "    }\n",
              "\n",
              "    .dataframe thead th {\n",
              "        text-align: right;\n",
              "    }\n",
              "</style>\n",
              "<table border=\"1\" class=\"dataframe\">\n",
              "  <thead>\n",
              "    <tr style=\"text-align: right;\">\n",
              "      <th></th>\n",
              "      <th>beer</th>\n",
              "      <th>brewer</th>\n",
              "      <th>alcohol</th>\n",
              "    </tr>\n",
              "  </thead>\n",
              "  <tbody>\n",
              "    <tr>\n",
              "      <th>0</th>\n",
              "      <td>Bud</td>\n",
              "      <td>ABInBev</td>\n",
              "      <td>0.050</td>\n",
              "    </tr>\n",
              "    <tr>\n",
              "      <th>1</th>\n",
              "      <td>BudLite</td>\n",
              "      <td>ABInBev</td>\n",
              "      <td>0.042</td>\n",
              "    </tr>\n",
              "    <tr>\n",
              "      <th>2</th>\n",
              "      <td>Coors</td>\n",
              "      <td>Coors</td>\n",
              "      <td>0.050</td>\n",
              "    </tr>\n",
              "  </tbody>\n",
              "</table>\n",
              "</div>\n",
              "      <button class=\"colab-df-convert\" onclick=\"convertToInteractive('df-3ea209af-cb07-41d2-b4d3-3dee48327d2b')\"\n",
              "              title=\"Convert this dataframe to an interactive table.\"\n",
              "              style=\"display:none;\">\n",
              "        \n",
              "  <svg xmlns=\"http://www.w3.org/2000/svg\" height=\"24px\"viewBox=\"0 0 24 24\"\n",
              "       width=\"24px\">\n",
              "    <path d=\"M0 0h24v24H0V0z\" fill=\"none\"/>\n",
              "    <path d=\"M18.56 5.44l.94 2.06.94-2.06 2.06-.94-2.06-.94-.94-2.06-.94 2.06-2.06.94zm-11 1L8.5 8.5l.94-2.06 2.06-.94-2.06-.94L8.5 2.5l-.94 2.06-2.06.94zm10 10l.94 2.06.94-2.06 2.06-.94-2.06-.94-.94-2.06-.94 2.06-2.06.94z\"/><path d=\"M17.41 7.96l-1.37-1.37c-.4-.4-.92-.59-1.43-.59-.52 0-1.04.2-1.43.59L10.3 9.45l-7.72 7.72c-.78.78-.78 2.05 0 2.83L4 21.41c.39.39.9.59 1.41.59.51 0 1.02-.2 1.41-.59l7.78-7.78 2.81-2.81c.8-.78.8-2.07 0-2.86zM5.41 20L4 18.59l7.72-7.72 1.47 1.35L5.41 20z\"/>\n",
              "  </svg>\n",
              "      </button>\n",
              "      \n",
              "  <style>\n",
              "    .colab-df-container {\n",
              "      display:flex;\n",
              "      flex-wrap:wrap;\n",
              "      gap: 12px;\n",
              "    }\n",
              "\n",
              "    .colab-df-convert {\n",
              "      background-color: #E8F0FE;\n",
              "      border: none;\n",
              "      border-radius: 50%;\n",
              "      cursor: pointer;\n",
              "      display: none;\n",
              "      fill: #1967D2;\n",
              "      height: 32px;\n",
              "      padding: 0 0 0 0;\n",
              "      width: 32px;\n",
              "    }\n",
              "\n",
              "    .colab-df-convert:hover {\n",
              "      background-color: #E2EBFA;\n",
              "      box-shadow: 0px 1px 2px rgba(60, 64, 67, 0.3), 0px 1px 3px 1px rgba(60, 64, 67, 0.15);\n",
              "      fill: #174EA6;\n",
              "    }\n",
              "\n",
              "    [theme=dark] .colab-df-convert {\n",
              "      background-color: #3B4455;\n",
              "      fill: #D2E3FC;\n",
              "    }\n",
              "\n",
              "    [theme=dark] .colab-df-convert:hover {\n",
              "      background-color: #434B5C;\n",
              "      box-shadow: 0px 1px 3px 1px rgba(0, 0, 0, 0.15);\n",
              "      filter: drop-shadow(0px 1px 2px rgba(0, 0, 0, 0.3));\n",
              "      fill: #FFFFFF;\n",
              "    }\n",
              "  </style>\n",
              "\n",
              "      <script>\n",
              "        const buttonEl =\n",
              "          document.querySelector('#df-3ea209af-cb07-41d2-b4d3-3dee48327d2b button.colab-df-convert');\n",
              "        buttonEl.style.display =\n",
              "          google.colab.kernel.accessAllowed ? 'block' : 'none';\n",
              "\n",
              "        async function convertToInteractive(key) {\n",
              "          const element = document.querySelector('#df-3ea209af-cb07-41d2-b4d3-3dee48327d2b');\n",
              "          const dataTable =\n",
              "            await google.colab.kernel.invokeFunction('convertToInteractive',\n",
              "                                                     [key], {});\n",
              "          if (!dataTable) return;\n",
              "\n",
              "          const docLinkHtml = 'Like what you see? Visit the ' +\n",
              "            '<a target=\"_blank\" href=https://colab.research.google.com/notebooks/data_table.ipynb>data table notebook</a>'\n",
              "            + ' to learn more about interactive tables.';\n",
              "          element.innerHTML = '';\n",
              "          dataTable['output_type'] = 'display_data';\n",
              "          await google.colab.output.renderOutput(dataTable, element);\n",
              "          const docLink = document.createElement('div');\n",
              "          docLink.innerHTML = docLinkHtml;\n",
              "          element.appendChild(docLink);\n",
              "        }\n",
              "      </script>\n",
              "    </div>\n",
              "  </div>\n",
              "  "
            ]
          },
          "metadata": {},
          "execution_count": 33
        }
      ],
      "source": [
        "# Variant A: The first query variant for answering this query.\n",
        "view_table (\n",
        "        union(\n",
        "        select(beers, \"( brewer = 'ABInBev' )\"),\n",
        "        select(beers, \"( alcohol >= 0.05 )\")\n",
        "        )\n",
        ")"
      ]
    },
    {
      "cell_type": "code",
      "source": [
        "# Variant B: The second query variant for answering this query.\n",
        "view_table (\n",
        "        select(beers, \"( brewer = 'ABInBev' ) OR ( alcohol >= 0.05 )\")\n",
        ")"
      ],
      "metadata": {
        "id": "uf_HdA083B8R",
        "colab": {
          "base_uri": "https://localhost:8080/",
          "height": 143
        },
        "outputId": "f4a9e434-285f-4be1-d605-295406f6f3a5"
      },
      "execution_count": null,
      "outputs": [
        {
          "output_type": "execute_result",
          "data": {
            "text/plain": [
              "      beer   brewer  alcohol\n",
              "0      Bud  ABInBev    0.050\n",
              "1  BudLite  ABInBev    0.042\n",
              "2    Coors    Coors    0.050"
            ],
            "text/html": [
              "\n",
              "  <div id=\"df-bdfe0751-27c8-417b-ae0f-fd59adccbcbd\">\n",
              "    <div class=\"colab-df-container\">\n",
              "      <div>\n",
              "<style scoped>\n",
              "    .dataframe tbody tr th:only-of-type {\n",
              "        vertical-align: middle;\n",
              "    }\n",
              "\n",
              "    .dataframe tbody tr th {\n",
              "        vertical-align: top;\n",
              "    }\n",
              "\n",
              "    .dataframe thead th {\n",
              "        text-align: right;\n",
              "    }\n",
              "</style>\n",
              "<table border=\"1\" class=\"dataframe\">\n",
              "  <thead>\n",
              "    <tr style=\"text-align: right;\">\n",
              "      <th></th>\n",
              "      <th>beer</th>\n",
              "      <th>brewer</th>\n",
              "      <th>alcohol</th>\n",
              "    </tr>\n",
              "  </thead>\n",
              "  <tbody>\n",
              "    <tr>\n",
              "      <th>0</th>\n",
              "      <td>Bud</td>\n",
              "      <td>ABInBev</td>\n",
              "      <td>0.050</td>\n",
              "    </tr>\n",
              "    <tr>\n",
              "      <th>1</th>\n",
              "      <td>BudLite</td>\n",
              "      <td>ABInBev</td>\n",
              "      <td>0.042</td>\n",
              "    </tr>\n",
              "    <tr>\n",
              "      <th>2</th>\n",
              "      <td>Coors</td>\n",
              "      <td>Coors</td>\n",
              "      <td>0.050</td>\n",
              "    </tr>\n",
              "  </tbody>\n",
              "</table>\n",
              "</div>\n",
              "      <button class=\"colab-df-convert\" onclick=\"convertToInteractive('df-bdfe0751-27c8-417b-ae0f-fd59adccbcbd')\"\n",
              "              title=\"Convert this dataframe to an interactive table.\"\n",
              "              style=\"display:none;\">\n",
              "        \n",
              "  <svg xmlns=\"http://www.w3.org/2000/svg\" height=\"24px\"viewBox=\"0 0 24 24\"\n",
              "       width=\"24px\">\n",
              "    <path d=\"M0 0h24v24H0V0z\" fill=\"none\"/>\n",
              "    <path d=\"M18.56 5.44l.94 2.06.94-2.06 2.06-.94-2.06-.94-.94-2.06-.94 2.06-2.06.94zm-11 1L8.5 8.5l.94-2.06 2.06-.94-2.06-.94L8.5 2.5l-.94 2.06-2.06.94zm10 10l.94 2.06.94-2.06 2.06-.94-2.06-.94-.94-2.06-.94 2.06-2.06.94z\"/><path d=\"M17.41 7.96l-1.37-1.37c-.4-.4-.92-.59-1.43-.59-.52 0-1.04.2-1.43.59L10.3 9.45l-7.72 7.72c-.78.78-.78 2.05 0 2.83L4 21.41c.39.39.9.59 1.41.59.51 0 1.02-.2 1.41-.59l7.78-7.78 2.81-2.81c.8-.78.8-2.07 0-2.86zM5.41 20L4 18.59l7.72-7.72 1.47 1.35L5.41 20z\"/>\n",
              "  </svg>\n",
              "      </button>\n",
              "      \n",
              "  <style>\n",
              "    .colab-df-container {\n",
              "      display:flex;\n",
              "      flex-wrap:wrap;\n",
              "      gap: 12px;\n",
              "    }\n",
              "\n",
              "    .colab-df-convert {\n",
              "      background-color: #E8F0FE;\n",
              "      border: none;\n",
              "      border-radius: 50%;\n",
              "      cursor: pointer;\n",
              "      display: none;\n",
              "      fill: #1967D2;\n",
              "      height: 32px;\n",
              "      padding: 0 0 0 0;\n",
              "      width: 32px;\n",
              "    }\n",
              "\n",
              "    .colab-df-convert:hover {\n",
              "      background-color: #E2EBFA;\n",
              "      box-shadow: 0px 1px 2px rgba(60, 64, 67, 0.3), 0px 1px 3px 1px rgba(60, 64, 67, 0.15);\n",
              "      fill: #174EA6;\n",
              "    }\n",
              "\n",
              "    [theme=dark] .colab-df-convert {\n",
              "      background-color: #3B4455;\n",
              "      fill: #D2E3FC;\n",
              "    }\n",
              "\n",
              "    [theme=dark] .colab-df-convert:hover {\n",
              "      background-color: #434B5C;\n",
              "      box-shadow: 0px 1px 3px 1px rgba(0, 0, 0, 0.15);\n",
              "      filter: drop-shadow(0px 1px 2px rgba(0, 0, 0, 0.3));\n",
              "      fill: #FFFFFF;\n",
              "    }\n",
              "  </style>\n",
              "\n",
              "      <script>\n",
              "        const buttonEl =\n",
              "          document.querySelector('#df-bdfe0751-27c8-417b-ae0f-fd59adccbcbd button.colab-df-convert');\n",
              "        buttonEl.style.display =\n",
              "          google.colab.kernel.accessAllowed ? 'block' : 'none';\n",
              "\n",
              "        async function convertToInteractive(key) {\n",
              "          const element = document.querySelector('#df-bdfe0751-27c8-417b-ae0f-fd59adccbcbd');\n",
              "          const dataTable =\n",
              "            await google.colab.kernel.invokeFunction('convertToInteractive',\n",
              "                                                     [key], {});\n",
              "          if (!dataTable) return;\n",
              "\n",
              "          const docLinkHtml = 'Like what you see? Visit the ' +\n",
              "            '<a target=\"_blank\" href=https://colab.research.google.com/notebooks/data_table.ipynb>data table notebook</a>'\n",
              "            + ' to learn more about interactive tables.';\n",
              "          element.innerHTML = '';\n",
              "          dataTable['output_type'] = 'display_data';\n",
              "          await google.colab.output.renderOutput(dataTable, element);\n",
              "          const docLink = document.createElement('div');\n",
              "          docLink.innerHTML = docLinkHtml;\n",
              "          element.appendChild(docLink);\n",
              "        }\n",
              "      </script>\n",
              "    </div>\n",
              "  </div>\n",
              "  "
            ]
          },
          "metadata": {},
          "execution_count": 34
        }
      ]
    },
    {
      "cell_type": "markdown",
      "metadata": {
        "id": "WW56Qm2n9Eyq"
      },
      "source": [
        "## 4.3 **Query 3.** Beers with price lower than 5.0 and alcohol higher than 0.045 -- *You Provide It* **(Submission 4)**"
      ]
    },
    {
      "cell_type": "markdown",
      "source": [
        "### **Actions**\n",
        "- Schema (i.e. columns) to be returned - (beer).\n",
        "- Columns in result/output can be displayed in any order.\n",
        "- Filter out NaN values by using > 0 condition for beer price.\n",
        "- Hints: you could use either join or intersect (using different operators for two variants)."
      ],
      "metadata": {
        "id": "8DOpbZOLqtPH"
      }
    },
    {
      "cell_type": "code",
      "execution_count": null,
      "metadata": {
        "id": "8wVOOaw_9Eyq"
      },
      "outputs": [],
      "source": [
        "# Variant A: The first query variant for answering this query.\n",
        "\n",
        "# Write your query here."
      ]
    },
    {
      "cell_type": "code",
      "source": [
        "# Variant B: The second query variant for answering this query.\n",
        "\n",
        "# Write your query here."
      ],
      "metadata": {
        "id": "NrbzdWWY2TxU"
      },
      "execution_count": null,
      "outputs": []
    },
    {
      "cell_type": "markdown",
      "source": [
        "## 4.4 **Query 4.** For each Bar - Find the most expensive beer (highest price) or beers (If more than one beer is of the highest price) -- *You Provide It* **(Submission 5)**"
      ],
      "metadata": {
        "id": "jansbZsaOFmS"
      }
    },
    {
      "cell_type": "markdown",
      "source": [
        "### **Actions**\n",
        "- Schema (i.e. columns) to be returned - (bar, beer, price).\n",
        "- Please use the relation operator functions to get the results. **DO NOT use pythons aggregate functions** to achieve the desired output.\n",
        "- Do not use Python in-built dictionary/list or loops. Only previous relational operator functions are allowed.\n",
        "- Use Select function with price >= 0 for removing NaN values\n",
        "- Columns in result/output can be displayed in any order.\n",
        "- Please use **different set of operators** for two variants.\n",
        "- Your solution should be general and be applicable to similar data with different bar names, beer names, and prices. You should not mention specific bar names or prices."
      ],
      "metadata": {
        "id": "ZB7OVs2vpzr2"
      }
    },
    {
      "cell_type": "code",
      "source": [
        "# Variant A: The first query variant for answering this query.\n",
        "\n",
        "# Write your query here."
      ],
      "metadata": {
        "id": "-8TLSFRDOv_f"
      },
      "execution_count": null,
      "outputs": []
    },
    {
      "cell_type": "code",
      "source": [
        "# Variant B: The second query variant for answering this query.\n",
        "\n",
        "# Write your query here."
      ],
      "metadata": {
        "id": "l6qX9s0U2gX8"
      },
      "execution_count": null,
      "outputs": []
    }
  ],
  "metadata": {
    "kernelspec": {
      "display_name": "Python 3",
      "language": "python",
      "name": "python3"
    },
    "language_info": {
      "codemirror_mode": {
        "name": "ipython",
        "version": 3
      },
      "file_extension": ".py",
      "mimetype": "text/x-python",
      "name": "python",
      "nbconvert_exporter": "python",
      "pygments_lexer": "ipython3",
      "version": "3.8.3"
    },
    "colab": {
      "provenance": [],
      "include_colab_link": true
    }
  },
  "nbformat": 4,
  "nbformat_minor": 0
}